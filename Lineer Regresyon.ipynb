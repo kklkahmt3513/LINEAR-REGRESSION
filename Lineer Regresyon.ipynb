{
 "cells": [
  {
   "cell_type": "code",
   "execution_count": 3,
   "metadata": {},
   "outputs": [
    {
     "name": "stdout",
     "output_type": "stream",
     "text": [
      "Requirement already satisfied: seaborn in c:\\users\\kklka\\appdata\\local\\programs\\python\\python39\\lib\\site-packages (0.13.0)\n",
      "Requirement already satisfied: pandas>=1.2 in c:\\users\\kklka\\appdata\\local\\programs\\python\\python39\\lib\\site-packages (from seaborn) (2.1.1)\n",
      "Requirement already satisfied: numpy!=1.24.0,>=1.20 in c:\\users\\kklka\\appdata\\local\\programs\\python\\python39\\lib\\site-packages (from seaborn) (1.26.1)\n",
      "Requirement already satisfied: matplotlib!=3.6.1,>=3.3 in c:\\users\\kklka\\appdata\\local\\programs\\python\\python39\\lib\\site-packages (from seaborn) (3.8.0)\n",
      "Requirement already satisfied: importlib-resources>=3.2.0 in c:\\users\\kklka\\appdata\\local\\programs\\python\\python39\\lib\\site-packages (from matplotlib!=3.6.1,>=3.3->seaborn) (6.1.0)\n",
      "Requirement already satisfied: fonttools>=4.22.0 in c:\\users\\kklka\\appdata\\local\\programs\\python\\python39\\lib\\site-packages (from matplotlib!=3.6.1,>=3.3->seaborn) (4.43.1)\n",
      "Requirement already satisfied: packaging>=20.0 in c:\\users\\kklka\\appdata\\roaming\\python\\python39\\site-packages (from matplotlib!=3.6.1,>=3.3->seaborn) (23.2)\n",
      "Requirement already satisfied: kiwisolver>=1.0.1 in c:\\users\\kklka\\appdata\\local\\programs\\python\\python39\\lib\\site-packages (from matplotlib!=3.6.1,>=3.3->seaborn) (1.4.5)\n",
      "Requirement already satisfied: pillow>=6.2.0 in c:\\users\\kklka\\appdata\\local\\programs\\python\\python39\\lib\\site-packages (from matplotlib!=3.6.1,>=3.3->seaborn) (10.0.1)\n",
      "Requirement already satisfied: contourpy>=1.0.1 in c:\\users\\kklka\\appdata\\local\\programs\\python\\python39\\lib\\site-packages (from matplotlib!=3.6.1,>=3.3->seaborn) (1.1.1)\n",
      "Requirement already satisfied: cycler>=0.10 in c:\\users\\kklka\\appdata\\local\\programs\\python\\python39\\lib\\site-packages (from matplotlib!=3.6.1,>=3.3->seaborn) (0.12.1)\n",
      "Requirement already satisfied: python-dateutil>=2.7 in c:\\users\\kklka\\appdata\\roaming\\python\\python39\\site-packages (from matplotlib!=3.6.1,>=3.3->seaborn) (2.8.2)\n",
      "Requirement already satisfied: pyparsing>=2.3.1 in c:\\users\\kklka\\appdata\\local\\programs\\python\\python39\\lib\\site-packages (from matplotlib!=3.6.1,>=3.3->seaborn) (3.1.1)\n",
      "Requirement already satisfied: tzdata>=2022.1 in c:\\users\\kklka\\appdata\\local\\programs\\python\\python39\\lib\\site-packages (from pandas>=1.2->seaborn) (2023.3)\n",
      "Requirement already satisfied: pytz>=2020.1 in c:\\users\\kklka\\appdata\\local\\programs\\python\\python39\\lib\\site-packages (from pandas>=1.2->seaborn) (2023.3.post1)\n",
      "Requirement already satisfied: zipp>=3.1.0 in c:\\users\\kklka\\appdata\\roaming\\python\\python39\\site-packages (from importlib-resources>=3.2.0->matplotlib!=3.6.1,>=3.3->seaborn) (3.17.0)\n",
      "Requirement already satisfied: six>=1.5 in c:\\users\\kklka\\appdata\\roaming\\python\\python39\\site-packages (from python-dateutil>=2.7->matplotlib!=3.6.1,>=3.3->seaborn) (1.16.0)\n",
      "Note: you may need to restart the kernel to use updated packages.\n"
     ]
    },
    {
     "name": "stderr",
     "output_type": "stream",
     "text": [
      "WARNING: You are using pip version 22.0.4; however, version 23.2.1 is available.\n",
      "You should consider upgrading via the 'c:\\Users\\kklka\\AppData\\Local\\Programs\\Python\\Python39\\python.exe -m pip install --upgrade pip' command.\n"
     ]
    }
   ],
   "source": [
    "pip install seaborn"
   ]
  },
  {
   "cell_type": "code",
   "execution_count": 77,
   "metadata": {},
   "outputs": [],
   "source": [
    "import pandas as pd\n",
    "import numpy as np\n",
    "import matplotlib.pyplot as plt\n",
    "from sklearn import linear_model, metrics, model_selection, feature_selection, pipeline, ensemble, tree, datasets\n",
    "from ipywidgets import interact\n",
    "import scipy.stats as scs\n",
    "import seaborn as sns"
   ]
  },
  {
   "cell_type": "markdown",
   "metadata": {},
   "source": [
    "# 1. Isinma"
   ]
  },
  {
   "cell_type": "markdown",
   "metadata": {},
   "source": [
    "## a. Coklu lineer regresyon"
   ]
  },
  {
   "cell_type": "markdown",
   "metadata": {},
   "source": [
    "ML calismalari sirasinda konseptleri daha iyi anlamak icin sentetik veri setleri siklikla kullanilmaktadir. \n",
    "\n",
    "Asagida bu tip sentetik bir veri olusturma ornegi gormektesiniz:"
   ]
  },
  {
   "cell_type": "code",
   "execution_count": 79,
   "metadata": {},
   "outputs": [],
   "source": [
    "# Ilk dataseti olusturma\n",
    "X, y = datasets.make_regression(\n",
    "    n_samples=300, \n",
    "    n_features=5, \n",
    "    n_informative=2, \n",
    "    noise=2.21, \n",
    "    random_state=42, \n",
    "    bias=4.0, \n",
    "    effective_rank=4,\n",
    "    )\n",
    "\n",
    "# Rassal olcekleme\n",
    "dataset = pd.DataFrame(X).add_prefix('x_').assign(y=y) \\\n",
    "    .mul([100,-28, 1e-3, 1e4 , -2e6, 1]) \\\n",
    "    .add([20, 3, 1e-2, 190, 45e4, 0])"
   ]
  },
  {
   "cell_type": "markdown",
   "metadata": {},
   "source": [
    "Sentetik veri olusturma detaylarina asagidan ulasabilirsiniz:\n",
    "\n",
    "[sklearn `make_regression` referans sayfasi](https://scikit-learn.org/stable/modules/generated/sklearn.datasets.make_regression.html?highlight=make_regression#sklearn.datasets.make_regression)"
   ]
  },
  {
   "cell_type": "code",
   "execution_count": 80,
   "metadata": {},
   "outputs": [
    {
     "data": {
      "text/html": [
       "<div>\n",
       "<style scoped>\n",
       "    .dataframe tbody tr th:only-of-type {\n",
       "        vertical-align: middle;\n",
       "    }\n",
       "\n",
       "    .dataframe tbody tr th {\n",
       "        vertical-align: top;\n",
       "    }\n",
       "\n",
       "    .dataframe thead th {\n",
       "        text-align: right;\n",
       "    }\n",
       "</style>\n",
       "<table border=\"1\" class=\"dataframe\">\n",
       "  <thead>\n",
       "    <tr style=\"text-align: right;\">\n",
       "      <th></th>\n",
       "      <th>x_0</th>\n",
       "      <th>x_1</th>\n",
       "      <th>x_2</th>\n",
       "      <th>x_3</th>\n",
       "      <th>x_4</th>\n",
       "      <th>y</th>\n",
       "    </tr>\n",
       "  </thead>\n",
       "  <tbody>\n",
       "    <tr>\n",
       "      <th>0</th>\n",
       "      <td>23.759943</td>\n",
       "      <td>2.210352</td>\n",
       "      <td>0.009984</td>\n",
       "      <td>539.089271</td>\n",
       "      <td>414372.427923</td>\n",
       "      <td>8.339542</td>\n",
       "    </tr>\n",
       "    <tr>\n",
       "      <th>1</th>\n",
       "      <td>27.698499</td>\n",
       "      <td>3.595618</td>\n",
       "      <td>0.010019</td>\n",
       "      <td>12.016667</td>\n",
       "      <td>406526.554494</td>\n",
       "      <td>7.807190</td>\n",
       "    </tr>\n",
       "    <tr>\n",
       "      <th>2</th>\n",
       "      <td>24.985284</td>\n",
       "      <td>1.303974</td>\n",
       "      <td>0.010069</td>\n",
       "      <td>676.779297</td>\n",
       "      <td>479943.326623</td>\n",
       "      <td>6.536755</td>\n",
       "    </tr>\n",
       "    <tr>\n",
       "      <th>3</th>\n",
       "      <td>10.884757</td>\n",
       "      <td>2.776216</td>\n",
       "      <td>0.009971</td>\n",
       "      <td>-131.935680</td>\n",
       "      <td>318766.889976</td>\n",
       "      <td>15.370564</td>\n",
       "    </tr>\n",
       "    <tr>\n",
       "      <th>4</th>\n",
       "      <td>25.520207</td>\n",
       "      <td>2.612674</td>\n",
       "      <td>0.009999</td>\n",
       "      <td>703.003344</td>\n",
       "      <td>549051.899774</td>\n",
       "      <td>1.286639</td>\n",
       "    </tr>\n",
       "  </tbody>\n",
       "</table>\n",
       "</div>"
      ],
      "text/plain": [
       "         x_0       x_1       x_2         x_3            x_4          y\n",
       "0  23.759943  2.210352  0.009984  539.089271  414372.427923   8.339542\n",
       "1  27.698499  3.595618  0.010019   12.016667  406526.554494   7.807190\n",
       "2  24.985284  1.303974  0.010069  676.779297  479943.326623   6.536755\n",
       "3  10.884757  2.776216  0.009971 -131.935680  318766.889976  15.370564\n",
       "4  25.520207  2.612674  0.009999  703.003344  549051.899774   1.286639"
      ]
     },
     "execution_count": 80,
     "metadata": {},
     "output_type": "execute_result"
    }
   ],
   "source": [
    "dataset.head()"
   ]
  },
  {
   "cell_type": "markdown",
   "metadata": {},
   "source": [
    "### I.\n",
    "\n",
    "Veri setini egitim ve test setleri olmak uzere ikiye ayiriniz.\n",
    "\n",
    "Referanslar:\n",
    "- [sklearn `train_test_split` referans sayfasi](https://scikit-learn.org/stable/modules/generated/sklearn.model_selection.train_test_split.html?highlight=train_test_split#sklearn.model_selection.train_test_split)"
   ]
  },
  {
   "cell_type": "code",
   "execution_count": 81,
   "metadata": {},
   "outputs": [
    {
     "data": {
      "text/plain": [
       "<function sklearn.model_selection._split.train_test_split(*arrays, test_size=None, train_size=None, random_state=None, shuffle=True, stratify=None)>"
      ]
     },
     "execution_count": 81,
     "metadata": {},
     "output_type": "execute_result"
    }
   ],
   "source": [
    "from sklearn import model_selection\n",
    "\n",
    "model_selection.train_test_split # bolme islemi icin bu fonksiyonu kullanabilirsiniz.\n"
   ]
  },
  {
   "cell_type": "markdown",
   "metadata": {},
   "source": [
    "Veri setinizi eğitim ve test setleri olmak üzere ikiye ayırmak için Python’da sklearn.model_selection modülünden train_test_split() \n",
    "fonksiyonunu kullanabilirsiniz12. Bu fonksiyon, verilerinizi belirli bir oranda karıştırarak ve bölerek eğitim ve test alt kümeleri oluşturur. \n",
    "Örneğin, veri setinizin %80’ini eğitim seti ve %20’sini test seti olarak ayırmak isterseniz, şöyle yapabilirsiniz:\n"
   ]
  },
  {
   "cell_type": "markdown",
   "metadata": {},
   "source": [
    "Bu kodda, X ve y bağımsız ve bağımlı değişkenlerinizi içeren dizilerdir. test_size parametresi test setinin oranını belirler. \n",
    "random_state parametresi ise verilerin karıştırılma şeklini kontrol eder. Bu parametreleri değiştirerek farklı bölümler elde edebilirsiniz."
   ]
  },
  {
   "cell_type": "code",
   "execution_count": 82,
   "metadata": {},
   "outputs": [],
   "source": [
    "from sklearn.model_selection import train_test_split\n",
    "X_train, X_test, y_train, y_test = train_test_split(X, y, test_size=0.2, random_state=42)"
   ]
  },
  {
   "cell_type": "markdown",
   "metadata": {},
   "source": [
    "Bu kodda, X ve y bağımsız ve bağımlı değişkenlerinizi içeren dizilerdir. test_size parametresi test setinin oranını belirler. random_state parametresi ise verilerin karıştırılma şeklini kontrol eder. Bu parametreleri değiştirerek farklı bölümler elde edebilirsiniz."
   ]
  },
  {
   "cell_type": "markdown",
   "metadata": {},
   "source": [
    "### II.\n",
    "\n",
    "`x_i` degiskenlerinin bir fonksiyonu olarak `y`'yi modelleyen lineer regresyon modelini egitiniz.\n",
    "\n",
    "Regresyon modeli icin scikit-learn `LinearRegression` sinifini kullaniniz.\n",
    "\n",
    "- [sklearn `LinearRegression` referans sayfasi](https://scikit-learn.org/stable/modules/generated/sklearn.linear_model.LinearRegression.html?highlight=linearregression#sklearn.linear_model.LinearRegression)\n",
    "    - Tum parametre aciklamalari ve kullanim ornekleri yukaridaki baglantida mevcuttur."
   ]
  },
  {
   "cell_type": "code",
   "execution_count": 83,
   "metadata": {},
   "outputs": [
    {
     "data": {
      "text/plain": [
       "sklearn.linear_model._base.LinearRegression"
      ]
     },
     "execution_count": 83,
     "metadata": {},
     "output_type": "execute_result"
    }
   ],
   "source": [
    "from sklearn import linear_model\n",
    "\n",
    "linear_model.LinearRegression # Linear Regresyon Modeli sinifi"
   ]
  },
  {
   "cell_type": "markdown",
   "metadata": {},
   "source": [
    "LinearRegression sınıfından bir nesne oluşturun. Bu nesneyi modeliniz olarak kullanacaksınız. \n",
    "İsteğe bağlı olarak modelinizin parametrelerini değiştirebilirsiniz. Örneğin, modelinizin sabit terimini (bias) içermesini istemiyorsanız, \n",
    "fit_intercept=False olarak ayarlayabilirsiniz:"
   ]
  },
  {
   "cell_type": "code",
   "execution_count": 84,
   "metadata": {},
   "outputs": [],
   "source": [
    "model = linear_model.LinearRegression(fit_intercept=True) # modeli olusturma"
   ]
  },
  {
   "cell_type": "markdown",
   "metadata": {},
   "source": [
    "Modelinizi eğitim verileriyle uyumlu hale getirin. Bunun için model nesnenizin fit() metodunu çağırın ve bağımsız değişkenler (X_train) ve bağımlı değişken (y_train) dizilerini argüman olarak verin:"
   ]
  },
  {
   "cell_type": "code",
   "execution_count": 85,
   "metadata": {},
   "outputs": [
    {
     "data": {
      "text/html": [
       "<style>#sk-container-id-4 {color: black;}#sk-container-id-4 pre{padding: 0;}#sk-container-id-4 div.sk-toggleable {background-color: white;}#sk-container-id-4 label.sk-toggleable__label {cursor: pointer;display: block;width: 100%;margin-bottom: 0;padding: 0.3em;box-sizing: border-box;text-align: center;}#sk-container-id-4 label.sk-toggleable__label-arrow:before {content: \"▸\";float: left;margin-right: 0.25em;color: #696969;}#sk-container-id-4 label.sk-toggleable__label-arrow:hover:before {color: black;}#sk-container-id-4 div.sk-estimator:hover label.sk-toggleable__label-arrow:before {color: black;}#sk-container-id-4 div.sk-toggleable__content {max-height: 0;max-width: 0;overflow: hidden;text-align: left;background-color: #f0f8ff;}#sk-container-id-4 div.sk-toggleable__content pre {margin: 0.2em;color: black;border-radius: 0.25em;background-color: #f0f8ff;}#sk-container-id-4 input.sk-toggleable__control:checked~div.sk-toggleable__content {max-height: 200px;max-width: 100%;overflow: auto;}#sk-container-id-4 input.sk-toggleable__control:checked~label.sk-toggleable__label-arrow:before {content: \"▾\";}#sk-container-id-4 div.sk-estimator input.sk-toggleable__control:checked~label.sk-toggleable__label {background-color: #d4ebff;}#sk-container-id-4 div.sk-label input.sk-toggleable__control:checked~label.sk-toggleable__label {background-color: #d4ebff;}#sk-container-id-4 input.sk-hidden--visually {border: 0;clip: rect(1px 1px 1px 1px);clip: rect(1px, 1px, 1px, 1px);height: 1px;margin: -1px;overflow: hidden;padding: 0;position: absolute;width: 1px;}#sk-container-id-4 div.sk-estimator {font-family: monospace;background-color: #f0f8ff;border: 1px dotted black;border-radius: 0.25em;box-sizing: border-box;margin-bottom: 0.5em;}#sk-container-id-4 div.sk-estimator:hover {background-color: #d4ebff;}#sk-container-id-4 div.sk-parallel-item::after {content: \"\";width: 100%;border-bottom: 1px solid gray;flex-grow: 1;}#sk-container-id-4 div.sk-label:hover label.sk-toggleable__label {background-color: #d4ebff;}#sk-container-id-4 div.sk-serial::before {content: \"\";position: absolute;border-left: 1px solid gray;box-sizing: border-box;top: 0;bottom: 0;left: 50%;z-index: 0;}#sk-container-id-4 div.sk-serial {display: flex;flex-direction: column;align-items: center;background-color: white;padding-right: 0.2em;padding-left: 0.2em;position: relative;}#sk-container-id-4 div.sk-item {position: relative;z-index: 1;}#sk-container-id-4 div.sk-parallel {display: flex;align-items: stretch;justify-content: center;background-color: white;position: relative;}#sk-container-id-4 div.sk-item::before, #sk-container-id-4 div.sk-parallel-item::before {content: \"\";position: absolute;border-left: 1px solid gray;box-sizing: border-box;top: 0;bottom: 0;left: 50%;z-index: -1;}#sk-container-id-4 div.sk-parallel-item {display: flex;flex-direction: column;z-index: 1;position: relative;background-color: white;}#sk-container-id-4 div.sk-parallel-item:first-child::after {align-self: flex-end;width: 50%;}#sk-container-id-4 div.sk-parallel-item:last-child::after {align-self: flex-start;width: 50%;}#sk-container-id-4 div.sk-parallel-item:only-child::after {width: 0;}#sk-container-id-4 div.sk-dashed-wrapped {border: 1px dashed gray;margin: 0 0.4em 0.5em 0.4em;box-sizing: border-box;padding-bottom: 0.4em;background-color: white;}#sk-container-id-4 div.sk-label label {font-family: monospace;font-weight: bold;display: inline-block;line-height: 1.2em;}#sk-container-id-4 div.sk-label-container {text-align: center;}#sk-container-id-4 div.sk-container {/* jupyter's `normalize.less` sets `[hidden] { display: none; }` but bootstrap.min.css set `[hidden] { display: none !important; }` so we also need the `!important` here to be able to override the default hidden behavior on the sphinx rendered scikit-learn.org. See: https://github.com/scikit-learn/scikit-learn/issues/21755 */display: inline-block !important;position: relative;}#sk-container-id-4 div.sk-text-repr-fallback {display: none;}</style><div id=\"sk-container-id-4\" class=\"sk-top-container\"><div class=\"sk-text-repr-fallback\"><pre>LinearRegression()</pre><b>In a Jupyter environment, please rerun this cell to show the HTML representation or trust the notebook. <br />On GitHub, the HTML representation is unable to render, please try loading this page with nbviewer.org.</b></div><div class=\"sk-container\" hidden><div class=\"sk-item\"><div class=\"sk-estimator sk-toggleable\"><input class=\"sk-toggleable__control sk-hidden--visually\" id=\"sk-estimator-id-4\" type=\"checkbox\" checked><label for=\"sk-estimator-id-4\" class=\"sk-toggleable__label sk-toggleable__label-arrow\">LinearRegression</label><div class=\"sk-toggleable__content\"><pre>LinearRegression()</pre></div></div></div></div></div>"
      ],
      "text/plain": [
       "LinearRegression()"
      ]
     },
     "execution_count": 85,
     "metadata": {},
     "output_type": "execute_result"
    }
   ],
   "source": [
    "model.fit(X_train, y_train) # modeli egitme"
   ]
  },
  {
   "cell_type": "markdown",
   "metadata": {},
   "source": [
    "Modelinizin eğitildikten sonra sahip olduğu katsayıları ve sabit terimi görüntüleyin. Bunun için model nesnenizin coef_ ve intercept_ özniteliklerini kullanabilirsiniz:"
   ]
  },
  {
   "cell_type": "code",
   "execution_count": 86,
   "metadata": {},
   "outputs": [
    {
     "name": "stdout",
     "output_type": "stream",
     "text": [
      "Model katsayilari [-2.79234531 61.35053809 -1.72183325  0.73729297 61.70184638]\n",
      "Model sabit terimi 4.064096593776838\n"
     ]
    }
   ],
   "source": [
    "print(\"Model katsayilari\", model.coef_)\n",
    "print(\"Model sabit terimi\", model.intercept_)"
   ]
  },
  {
   "cell_type": "markdown",
   "metadata": {},
   "source": [
    "Modelinizin test verileri üzerindeki tahmin performansını değerlendirin. Bunun için model nesnenizin predict() metodunu çağırın ve test verilerinin bağımsız değişkenlerini (X_test) argüman olarak verin. Bu metot size test verilerinin bağımlı değişkenleri (y_test) için tahmin edilen değerleri (y_pred) döndürecektir:"
   ]
  },
  {
   "cell_type": "code",
   "execution_count": 87,
   "metadata": {},
   "outputs": [],
   "source": [
    "y_pred = model.predict(X_test) # model ile tahmin etme"
   ]
  },
  {
   "cell_type": "markdown",
   "metadata": {},
   "source": [
    "Tahmin edilen değerleri gerçek değerlerle karşılaştırarak modelinizin performansını ölçün. Bunun için sklearn.metrics modülünden uygun metrikleri içe aktarabilir ve kullanabilirsiniz. Örneğin, lineer regresyon modelleri için sık kullanılan metriklerden biri olan R^2 skorunu hesaplamak için şöyle yapabilirsiniz:"
   ]
  },
  {
   "cell_type": "code",
   "execution_count": 88,
   "metadata": {},
   "outputs": [
    {
     "name": "stdout",
     "output_type": "stream",
     "text": [
      "R^2 skoru: 0.46317202071694996\n"
     ]
    }
   ],
   "source": [
    "from sklearn.metrics import r2_score\n",
    "print(\"R^2 skoru:\", r2_score(y_test, y_pred))"
   ]
  },
  {
   "cell_type": "markdown",
   "metadata": {},
   "source": [
    "### III.\n",
    "\n",
    "Modelinizin egitim ve test seti uzerindeki asagidaki metriklerini rapor ediniz:\n",
    "\n",
    "- MSE [sklearn `mean_squared_error` referans sayfasi](https://scikit-learn.org/stable/modules/generated/sklearn.metrics.mean_squared_error.html?highlight=mean_squared_error#sklearn.metrics.mean_squared_error)\n",
    "- MAE [sklearn `mean_absolute_error` referans sayfasi](https://scikit-learn.org/stable/modules/generated/sklearn.metrics.mean_absolute_error.html?highlight=mean_absolute_error#sklearn.metrics.mean_absolute_error)\n",
    "- $R^2$ [sklearn `r2_score` referans sayfasi](https://scikit-learn.org/stable/modules/generated/sklearn.metrics.r2_score.html?highlight=r2_score#sklearn.metrics.r2_score)\n",
    "\n",
    "- Diger tum metrikler icin genel referans ve tam liste [sklearn `metrics` referans sayfasi](https://scikit-learn.org/stable/modules/generated/sklearn.metrics.html?highlight=metrics#sklearn.metrics)"
   ]
  },
  {
   "cell_type": "code",
   "execution_count": 89,
   "metadata": {},
   "outputs": [
    {
     "name": "stdout",
     "output_type": "stream",
     "text": [
      "Eğitim Seti MSE: 4.630675923188127\n",
      "Test Seti MSE: 5.168898012290558\n",
      "Eğitim Seti MAE: 1.691912141522534\n",
      "Test Seti MAE: 1.7835851464135393\n",
      "Eğitim Seti R^2: 0.6954440527120627\n",
      "Test Seti R^2: 0.46317202071694996\n",
      "Explained Variance Score: 0.46678745148246703\n",
      "Max Error: 6.81873481770213\n",
      "Median Absolute Error: 1.5704220721394506\n"
     ]
    }
   ],
   "source": [
    "from sklearn.metrics import mean_squared_error, mean_absolute_error, r2_score, explained_variance_score, max_error, median_absolute_error\n",
    "\n",
    "# Eğitim verileri üzerinde tahmin yapma\n",
    "y_train_pred = model.predict(X_train)\n",
    "\n",
    "# Test verileri üzerinde tahmin yapma\n",
    "y_test_pred = model.predict(X_test)\n",
    "\n",
    "# MSE hesaplama\n",
    "mse_train = mean_squared_error(y_train, y_train_pred)\n",
    "mse_test = mean_squared_error(y_test, y_test_pred)\n",
    "\n",
    "# MAE hesaplama\n",
    "mae_train = mean_absolute_error(y_train, y_train_pred)\n",
    "mae_test = mean_absolute_error(y_test, y_test_pred)\n",
    "\n",
    "# R^2 hesaplama\n",
    "r2_train = r2_score(y_train, y_train_pred)\n",
    "r2_test = r2_score(y_test, y_test_pred)\n",
    "\n",
    "# Diğer metrikler\n",
    "explained_variance = explained_variance_score(y_test, y_test_pred)\n",
    "max_err = max_error(y_test, y_test_pred)\n",
    "median_ae = median_absolute_error(y_test, y_test_pred)\n",
    "\n",
    "# Metrikleri rapor etme\n",
    "print(f\"Eğitim Seti MSE: {mse_train}\")\n",
    "print(f\"Test Seti MSE: {mse_test}\")\n",
    "print(f\"Eğitim Seti MAE: {mae_train}\")\n",
    "print(f\"Test Seti MAE: {mae_test}\")\n",
    "print(f\"Eğitim Seti R^2: {r2_train}\")\n",
    "print(f\"Test Seti R^2: {r2_test}\")\n",
    "print(f\"Explained Variance Score: {explained_variance}\")\n",
    "print(f\"Max Error: {max_err}\")\n",
    "print(f\"Median Absolute Error: {median_ae}\")\n"
   ]
  },
  {
   "cell_type": "code",
   "execution_count": 90,
   "metadata": {},
   "outputs": [],
   "source": [
    "from sklearn import metrics  # istediginiz metrikler bu modulde olabilir\n",
    "\n",
    "metrics.mean_squared_error\n",
    "metrics.mean_absolute_error\n",
    "metrics.r2_score;\n"
   ]
  },
  {
   "cell_type": "markdown",
   "metadata": {},
   "source": [
    "Modelinizin eğitim ve test seti üzerindeki istenen metrikleri rapor etmek için şu adımları izleyebilirsiniz:\n",
    "\n",
    "sklearn.metrics modülünden gerekli metrikleri içe aktarın:"
   ]
  },
  {
   "cell_type": "code",
   "execution_count": 91,
   "metadata": {},
   "outputs": [],
   "source": [
    "from sklearn.metrics import mean_squared_error, mean_absolute_error, r2_score"
   ]
  },
  {
   "cell_type": "markdown",
   "metadata": {},
   "source": [
    "Modelinizin eğitim verileri üzerindeki tahminlerini elde edin. Bunun için model nesnenizin predict() metodunu çağırın ve eğitim verilerinin bağımsız değişkenlerini (X_train) argüman olarak verin. Bu metot size eğitim verilerinin bağımlı değişkenleri (y_train) için tahmin edilen değerleri (y_train_pred) döndürecektir:"
   ]
  },
  {
   "cell_type": "code",
   "execution_count": 92,
   "metadata": {},
   "outputs": [],
   "source": [
    "y_train_pred = model.predict(X_train)"
   ]
  },
  {
   "cell_type": "markdown",
   "metadata": {},
   "source": [
    "Modelinizin test verileri üzerindeki tahminlerini elde edin. Bunun için model nesnenizin predict() metodunu çağırın ve test verilerinin bağımsız değişkenlerini (X_test) argüman olarak verin. Bu metot size test verilerinin bağımlı değişkenleri (y_test) için tahmin edilen değerleri (y_test_pred) döndürecektir:"
   ]
  },
  {
   "cell_type": "code",
   "execution_count": 93,
   "metadata": {},
   "outputs": [],
   "source": [
    "y_test_pred = model.predict(X_test)"
   ]
  },
  {
   "cell_type": "markdown",
   "metadata": {},
   "source": [
    "Eğitim ve test setleri için istenen metrikleri hesaplayın. Bunun için içe aktardığınız metrik fonksiyonlarını çağırın ve gerçek ve tahmin edilen değerleri argüman olarak verin. Örneğin, eğitim seti için MSE hesaplamak için şöyle yapabilirsiniz:"
   ]
  },
  {
   "cell_type": "code",
   "execution_count": 94,
   "metadata": {},
   "outputs": [],
   "source": [
    "mse_train = mean_squared_error(y_train, y_train_pred)"
   ]
  },
  {
   "cell_type": "markdown",
   "metadata": {},
   "source": [
    "Hesapladığınız metrikleri istediğiniz şekilde raporlayın. Örneğin, ekrana yazdırmak için print() fonksiyonunu kullanabilirsiniz:"
   ]
  },
  {
   "cell_type": "code",
   "execution_count": 95,
   "metadata": {},
   "outputs": [
    {
     "name": "stdout",
     "output_type": "stream",
     "text": [
      "Eğitim seti için MSE: 4.630675923188127\n"
     ]
    }
   ],
   "source": [
    "print(\"Eğitim seti için MSE:\", mse_train)"
   ]
  },
  {
   "cell_type": "markdown",
   "metadata": {},
   "source": [
    "### IV.\n",
    "\n",
    "Her bir degisken icin bulmus oldugunuz katsayi degerlerini ve intersepti rapor ediniz.\n",
    "\n",
    "- Katsayi ve intersept degerlerinin hangi attribute'larda tutuldugunu bulmak icin [sklearn `LinearRegression` referans sayfasi](https://scikit-learn.org/stable/modules/generated/sklearn.linear_model.LinearRegression.html?highlight=linearregression#sklearn.linear_model.LinearRegression)'ndan yararlanabilirsiniz."
   ]
  },
  {
   "cell_type": "code",
   "execution_count": 96,
   "metadata": {},
   "outputs": [],
   "source": [
    "coef = model.coef_"
   ]
  },
  {
   "cell_type": "markdown",
   "metadata": {},
   "source": [
    "Model nesnenizin intercept_ özniteliğini kullanarak intersept değerini elde edin. Bu öznitelik size modelinizin sabit terimini veren bir skaler döndürecektir:"
   ]
  },
  {
   "cell_type": "code",
   "execution_count": 97,
   "metadata": {},
   "outputs": [],
   "source": [
    "intercept = model.intercept_"
   ]
  },
  {
   "cell_type": "markdown",
   "metadata": {},
   "source": [
    "Elde ettiğiniz katsayı ve intersept değerlerini istediğiniz şekilde raporlayın. Örneğin, ekrana yazdırmak için print() fonksiyonunu kullanabilirsiniz:"
   ]
  },
  {
   "cell_type": "code",
   "execution_count": 98,
   "metadata": {},
   "outputs": [
    {
     "name": "stdout",
     "output_type": "stream",
     "text": [
      "Katsayılar: [-2.79234531 61.35053809 -1.72183325  0.73729297 61.70184638]\n",
      "Sabit Değer: 4.064096593776838\n"
     ]
    }
   ],
   "source": [
    "print(\"Katsayılar:\", coef)\n",
    "print(\"Sabit Değer:\", intercept)"
   ]
  },
  {
   "cell_type": "markdown",
   "metadata": {},
   "source": [
    "### V.\n",
    "\n",
    "Degiskenlerin katsayilari, degiskenlerin onemi ile ilgili bilgi vermekte midir? Tartisiniz."
   ]
  },
  {
   "cell_type": "markdown",
   "metadata": {},
   "source": [
    "Değişkenlerin katsayıları, değişkenlerin önemi ile ilgili bilgi vermekte midir sorusunun kesin bir cevabı yoktur. Bu sorunun cevabı, değişkenlerin ölçeklenmesine, modelin varsayımlarına ve kullanılan önem ölçütüne bağlıdır.\n",
    "\n",
    "Bazı durumlarda, değişkenlerin katsayılarının büyüklüğü, değişkenlerin önemini yansıtabilir. Örneğin, eğer değişkenler aynı ölçekte ise ve modelin varsayımları sağlanıyorsa, katsayısı büyük olan değişkenin bağımlı değişken üzerinde daha fazla etkisi olduğu söylenebilir. Bu durumda, katsayılar önem ölçütü olarak kullanılabilir.\n",
    "\n",
    "Ancak bazı durumlarda, değişkenlerin katsayıları, değişkenlerin önemini yansıtmayabilir. Örneğin, eğer değişkenler farklı ölçeklerde ise ve modelin varsayımları sağlanmıyorsa, katsayısı küçük olan değişkenin bağımlı değişken üzerinde daha az etkisi olduğu söylenemez. Bu durumda, katsayılar önem ölçütü olarak kullanılamaz.\n",
    "\n",
    "Bu nedenle, değişkenlerin önemini belirlemek için katsayılara bakmak yeterli olmayabilir. Değişkenlerin önemini belirlemek için farklı yöntemler kullanılabilir. Örneğin, p-değerleri, t-istatistikleri, varyans analizi (ANOVA), varyans açıklama oranları (R^2), özelliğe dayalı seçim (FBS), geriye doğru eleme (BES), ileriye doğru seçim (FES), adım adım seçim (SES) gibi yöntemler kullanılabilir. Bu yöntemlerin avantajları ve dezavantajları vardır ve her biri farklı bir önem ölçütü sunar."
   ]
  },
  {
   "cell_type": "markdown",
   "metadata": {},
   "source": [
    "### VI.\n",
    "\n",
    "- Egitim setinizi olcekleyip lineer regresyon modelinizi tekrar egitiniz. Asagidaki olcekleme yontemlerinden herhangi birini kullanabilir ya da kendi tercih ettiginiz baska bir olcekleme uygulayabilirsiniz.\n",
    "    - Standart scaler [sklearn `StandardScaler` referans sayfasi](https://scikit-learn.org/stable/modules/generated/sklearn.preprocessing.StandardScaler.html?highlight=standardscaler#sklearn.preprocessing.StandardScaler)\n",
    "    - Minmax scaler [sklearn `MinMaxScaler` referans sayfasi](https://scikit-learn.org/stable/modules/generated/sklearn.preprocessing.MinMaxScaler.html?highlight=minmaxscaler#sklearn.preprocessing.MinMaxScaler)\n",
    "- Elde edilen katsayilar, degiskenlerin onemine dair bilgi vermekte midir?"
   ]
  },
  {
   "cell_type": "code",
   "execution_count": 99,
   "metadata": {},
   "outputs": [
    {
     "data": {
      "text/plain": [
       "sklearn.preprocessing._data.StandardScaler"
      ]
     },
     "execution_count": 99,
     "metadata": {},
     "output_type": "execute_result"
    }
   ],
   "source": [
    "from sklearn import preprocessing\n",
    "\n",
    "preprocessing.StandardScaler"
   ]
  },
  {
   "cell_type": "code",
   "execution_count": 100,
   "metadata": {},
   "outputs": [],
   "source": [
    "from sklearn import preprocessing\n",
    "\n"
   ]
  },
  {
   "cell_type": "markdown",
   "metadata": {},
   "source": [
    "Eğitim setinizi ölçekleyip lineer regresyon modelinizi tekrar eğitmek için şu adımları izleyebilirsiniz:"
   ]
  },
  {
   "cell_type": "code",
   "execution_count": 101,
   "metadata": {},
   "outputs": [],
   "source": [
    "from sklearn.preprocessing import StandardScaler"
   ]
  },
  {
   "cell_type": "markdown",
   "metadata": {},
   "source": [
    "Ölçekleme yönteminden bir nesne oluşturun. Bu nesneyi ölçekleyici olarak kullanacaksınız. İsteğe bağlı olarak ölçekleyicinizin parametrelerini değiştirebilirsiniz. Örneğin, standart scaler kullanırken ortalamayı 0 yapmak istemiyorsanız, with_mean=False olarak ayarlayabilirsiniz:"
   ]
  },
  {
   "cell_type": "code",
   "execution_count": 102,
   "metadata": {},
   "outputs": [],
   "source": [
    "scaler = StandardScaler(with_mean=True)"
   ]
  },
  {
   "cell_type": "markdown",
   "metadata": {},
   "source": [
    "Ölçekleyicinizi eğitim verileriyle uyumlu hale getirin. Bunun için ölçekleyici nesnenizin fit() metodunu çağırın ve eğitim verilerinin bağımsız değişkenlerini (X_train) argüman olarak verin:"
   ]
  },
  {
   "cell_type": "code",
   "execution_count": 103,
   "metadata": {},
   "outputs": [
    {
     "data": {
      "text/html": [
       "<style>#sk-container-id-5 {color: black;}#sk-container-id-5 pre{padding: 0;}#sk-container-id-5 div.sk-toggleable {background-color: white;}#sk-container-id-5 label.sk-toggleable__label {cursor: pointer;display: block;width: 100%;margin-bottom: 0;padding: 0.3em;box-sizing: border-box;text-align: center;}#sk-container-id-5 label.sk-toggleable__label-arrow:before {content: \"▸\";float: left;margin-right: 0.25em;color: #696969;}#sk-container-id-5 label.sk-toggleable__label-arrow:hover:before {color: black;}#sk-container-id-5 div.sk-estimator:hover label.sk-toggleable__label-arrow:before {color: black;}#sk-container-id-5 div.sk-toggleable__content {max-height: 0;max-width: 0;overflow: hidden;text-align: left;background-color: #f0f8ff;}#sk-container-id-5 div.sk-toggleable__content pre {margin: 0.2em;color: black;border-radius: 0.25em;background-color: #f0f8ff;}#sk-container-id-5 input.sk-toggleable__control:checked~div.sk-toggleable__content {max-height: 200px;max-width: 100%;overflow: auto;}#sk-container-id-5 input.sk-toggleable__control:checked~label.sk-toggleable__label-arrow:before {content: \"▾\";}#sk-container-id-5 div.sk-estimator input.sk-toggleable__control:checked~label.sk-toggleable__label {background-color: #d4ebff;}#sk-container-id-5 div.sk-label input.sk-toggleable__control:checked~label.sk-toggleable__label {background-color: #d4ebff;}#sk-container-id-5 input.sk-hidden--visually {border: 0;clip: rect(1px 1px 1px 1px);clip: rect(1px, 1px, 1px, 1px);height: 1px;margin: -1px;overflow: hidden;padding: 0;position: absolute;width: 1px;}#sk-container-id-5 div.sk-estimator {font-family: monospace;background-color: #f0f8ff;border: 1px dotted black;border-radius: 0.25em;box-sizing: border-box;margin-bottom: 0.5em;}#sk-container-id-5 div.sk-estimator:hover {background-color: #d4ebff;}#sk-container-id-5 div.sk-parallel-item::after {content: \"\";width: 100%;border-bottom: 1px solid gray;flex-grow: 1;}#sk-container-id-5 div.sk-label:hover label.sk-toggleable__label {background-color: #d4ebff;}#sk-container-id-5 div.sk-serial::before {content: \"\";position: absolute;border-left: 1px solid gray;box-sizing: border-box;top: 0;bottom: 0;left: 50%;z-index: 0;}#sk-container-id-5 div.sk-serial {display: flex;flex-direction: column;align-items: center;background-color: white;padding-right: 0.2em;padding-left: 0.2em;position: relative;}#sk-container-id-5 div.sk-item {position: relative;z-index: 1;}#sk-container-id-5 div.sk-parallel {display: flex;align-items: stretch;justify-content: center;background-color: white;position: relative;}#sk-container-id-5 div.sk-item::before, #sk-container-id-5 div.sk-parallel-item::before {content: \"\";position: absolute;border-left: 1px solid gray;box-sizing: border-box;top: 0;bottom: 0;left: 50%;z-index: -1;}#sk-container-id-5 div.sk-parallel-item {display: flex;flex-direction: column;z-index: 1;position: relative;background-color: white;}#sk-container-id-5 div.sk-parallel-item:first-child::after {align-self: flex-end;width: 50%;}#sk-container-id-5 div.sk-parallel-item:last-child::after {align-self: flex-start;width: 50%;}#sk-container-id-5 div.sk-parallel-item:only-child::after {width: 0;}#sk-container-id-5 div.sk-dashed-wrapped {border: 1px dashed gray;margin: 0 0.4em 0.5em 0.4em;box-sizing: border-box;padding-bottom: 0.4em;background-color: white;}#sk-container-id-5 div.sk-label label {font-family: monospace;font-weight: bold;display: inline-block;line-height: 1.2em;}#sk-container-id-5 div.sk-label-container {text-align: center;}#sk-container-id-5 div.sk-container {/* jupyter's `normalize.less` sets `[hidden] { display: none; }` but bootstrap.min.css set `[hidden] { display: none !important; }` so we also need the `!important` here to be able to override the default hidden behavior on the sphinx rendered scikit-learn.org. See: https://github.com/scikit-learn/scikit-learn/issues/21755 */display: inline-block !important;position: relative;}#sk-container-id-5 div.sk-text-repr-fallback {display: none;}</style><div id=\"sk-container-id-5\" class=\"sk-top-container\"><div class=\"sk-text-repr-fallback\"><pre>StandardScaler()</pre><b>In a Jupyter environment, please rerun this cell to show the HTML representation or trust the notebook. <br />On GitHub, the HTML representation is unable to render, please try loading this page with nbviewer.org.</b></div><div class=\"sk-container\" hidden><div class=\"sk-item\"><div class=\"sk-estimator sk-toggleable\"><input class=\"sk-toggleable__control sk-hidden--visually\" id=\"sk-estimator-id-5\" type=\"checkbox\" checked><label for=\"sk-estimator-id-5\" class=\"sk-toggleable__label sk-toggleable__label-arrow\">StandardScaler</label><div class=\"sk-toggleable__content\"><pre>StandardScaler()</pre></div></div></div></div></div>"
      ],
      "text/plain": [
       "StandardScaler()"
      ]
     },
     "execution_count": 103,
     "metadata": {},
     "output_type": "execute_result"
    }
   ],
   "source": [
    "scaler.fit(X_train)"
   ]
  },
  {
   "cell_type": "markdown",
   "metadata": {},
   "source": [
    "Ölçekleyicinizi eğitim ve test verilerine uygulayın. Bunun için ölçekleyici nesnenizin transform() metodunu çağırın ve verilerin bağımsız değişkenlerini argüman olarak verin. Bu metot size ölçeklenmiş değerleri içeren yeni diziler döndürecektir:"
   ]
  },
  {
   "cell_type": "code",
   "execution_count": 104,
   "metadata": {},
   "outputs": [],
   "source": [
    "X_train_scaled = scaler.transform(X_train)\n",
    "X_test_scaled = scaler.transform(X_test)"
   ]
  },
  {
   "cell_type": "markdown",
   "metadata": {},
   "source": [
    "Modelinizin parametrelerini aynı tutarak ölçeklenmiş verilerle tekrar eğitin. Bunun için model nesnenizin fit() metodunu çağırın ve ölçeklenmiş bağımsız değişkenler (X_train_scaled) ve bağımlı değişken (y_train) dizilerini argüman olarak verin:"
   ]
  },
  {
   "cell_type": "code",
   "execution_count": 105,
   "metadata": {},
   "outputs": [
    {
     "data": {
      "text/html": [
       "<style>#sk-container-id-6 {color: black;}#sk-container-id-6 pre{padding: 0;}#sk-container-id-6 div.sk-toggleable {background-color: white;}#sk-container-id-6 label.sk-toggleable__label {cursor: pointer;display: block;width: 100%;margin-bottom: 0;padding: 0.3em;box-sizing: border-box;text-align: center;}#sk-container-id-6 label.sk-toggleable__label-arrow:before {content: \"▸\";float: left;margin-right: 0.25em;color: #696969;}#sk-container-id-6 label.sk-toggleable__label-arrow:hover:before {color: black;}#sk-container-id-6 div.sk-estimator:hover label.sk-toggleable__label-arrow:before {color: black;}#sk-container-id-6 div.sk-toggleable__content {max-height: 0;max-width: 0;overflow: hidden;text-align: left;background-color: #f0f8ff;}#sk-container-id-6 div.sk-toggleable__content pre {margin: 0.2em;color: black;border-radius: 0.25em;background-color: #f0f8ff;}#sk-container-id-6 input.sk-toggleable__control:checked~div.sk-toggleable__content {max-height: 200px;max-width: 100%;overflow: auto;}#sk-container-id-6 input.sk-toggleable__control:checked~label.sk-toggleable__label-arrow:before {content: \"▾\";}#sk-container-id-6 div.sk-estimator input.sk-toggleable__control:checked~label.sk-toggleable__label {background-color: #d4ebff;}#sk-container-id-6 div.sk-label input.sk-toggleable__control:checked~label.sk-toggleable__label {background-color: #d4ebff;}#sk-container-id-6 input.sk-hidden--visually {border: 0;clip: rect(1px 1px 1px 1px);clip: rect(1px, 1px, 1px, 1px);height: 1px;margin: -1px;overflow: hidden;padding: 0;position: absolute;width: 1px;}#sk-container-id-6 div.sk-estimator {font-family: monospace;background-color: #f0f8ff;border: 1px dotted black;border-radius: 0.25em;box-sizing: border-box;margin-bottom: 0.5em;}#sk-container-id-6 div.sk-estimator:hover {background-color: #d4ebff;}#sk-container-id-6 div.sk-parallel-item::after {content: \"\";width: 100%;border-bottom: 1px solid gray;flex-grow: 1;}#sk-container-id-6 div.sk-label:hover label.sk-toggleable__label {background-color: #d4ebff;}#sk-container-id-6 div.sk-serial::before {content: \"\";position: absolute;border-left: 1px solid gray;box-sizing: border-box;top: 0;bottom: 0;left: 50%;z-index: 0;}#sk-container-id-6 div.sk-serial {display: flex;flex-direction: column;align-items: center;background-color: white;padding-right: 0.2em;padding-left: 0.2em;position: relative;}#sk-container-id-6 div.sk-item {position: relative;z-index: 1;}#sk-container-id-6 div.sk-parallel {display: flex;align-items: stretch;justify-content: center;background-color: white;position: relative;}#sk-container-id-6 div.sk-item::before, #sk-container-id-6 div.sk-parallel-item::before {content: \"\";position: absolute;border-left: 1px solid gray;box-sizing: border-box;top: 0;bottom: 0;left: 50%;z-index: -1;}#sk-container-id-6 div.sk-parallel-item {display: flex;flex-direction: column;z-index: 1;position: relative;background-color: white;}#sk-container-id-6 div.sk-parallel-item:first-child::after {align-self: flex-end;width: 50%;}#sk-container-id-6 div.sk-parallel-item:last-child::after {align-self: flex-start;width: 50%;}#sk-container-id-6 div.sk-parallel-item:only-child::after {width: 0;}#sk-container-id-6 div.sk-dashed-wrapped {border: 1px dashed gray;margin: 0 0.4em 0.5em 0.4em;box-sizing: border-box;padding-bottom: 0.4em;background-color: white;}#sk-container-id-6 div.sk-label label {font-family: monospace;font-weight: bold;display: inline-block;line-height: 1.2em;}#sk-container-id-6 div.sk-label-container {text-align: center;}#sk-container-id-6 div.sk-container {/* jupyter's `normalize.less` sets `[hidden] { display: none; }` but bootstrap.min.css set `[hidden] { display: none !important; }` so we also need the `!important` here to be able to override the default hidden behavior on the sphinx rendered scikit-learn.org. See: https://github.com/scikit-learn/scikit-learn/issues/21755 */display: inline-block !important;position: relative;}#sk-container-id-6 div.sk-text-repr-fallback {display: none;}</style><div id=\"sk-container-id-6\" class=\"sk-top-container\"><div class=\"sk-text-repr-fallback\"><pre>LinearRegression()</pre><b>In a Jupyter environment, please rerun this cell to show the HTML representation or trust the notebook. <br />On GitHub, the HTML representation is unable to render, please try loading this page with nbviewer.org.</b></div><div class=\"sk-container\" hidden><div class=\"sk-item\"><div class=\"sk-estimator sk-toggleable\"><input class=\"sk-toggleable__control sk-hidden--visually\" id=\"sk-estimator-id-6\" type=\"checkbox\" checked><label for=\"sk-estimator-id-6\" class=\"sk-toggleable__label sk-toggleable__label-arrow\">LinearRegression</label><div class=\"sk-toggleable__content\"><pre>LinearRegression()</pre></div></div></div></div></div>"
      ],
      "text/plain": [
       "LinearRegression()"
      ]
     },
     "execution_count": 105,
     "metadata": {},
     "output_type": "execute_result"
    }
   ],
   "source": [
    "model.fit(X_train_scaled, y_train)"
   ]
  },
  {
   "cell_type": "markdown",
   "metadata": {},
   "source": [
    "Modelinizin katsayılarını ve interseptini görüntüleyin. Bunun için model nesnenizin coef_ ve intercept_ özniteliklerini kullanabilirsiniz:"
   ]
  },
  {
   "cell_type": "code",
   "execution_count": 106,
   "metadata": {},
   "outputs": [
    {
     "name": "stdout",
     "output_type": "stream",
     "text": [
      "Model katsayilari [-0.14457467  2.69303071 -0.08902532  0.03799114  2.79292494]\n",
      "Model intercept 3.4880295004603212\n"
     ]
    }
   ],
   "source": [
    "print(\"Model katsayilari\", model.coef_)\n",
    "print(\"Model intercept\", model.intercept_)"
   ]
  },
  {
   "cell_type": "markdown",
   "metadata": {},
   "source": [
    "Elde ettiğiniz katsayıların değişkenlerin önemine dair bilgi verip vermediğini değerlendirin. Eğer değişkenler aynı ölçekte ise ve modelinizin varsayımları sağlanıyorsa, katsayısı büyük olan değişkenin bağımlı değişken üzerinde daha fazla etkisi olduğu söylenebilir. Ancak eğer değişkenler farklı ölçeklerde ise veya modelinizin varsayımları sağlanmıyorsa, katsayılar önem ölçütü olarak kullanılamaz."
   ]
  },
  {
   "cell_type": "markdown",
   "metadata": {},
   "source": [
    "### VII.\n",
    "\n",
    "Yeni egitmis oldugunuz model ile asagidaki verilerin `y` degerlerini tahmin ediniz.\n",
    "\n",
    "|    |     x_0 |      x_1 |        x_2 |       x_3 |    x_4 |\n",
    "|---:|--------:|---------:|-----------:|----------:|-------:|\n",
    "|  0 | 16.7802 | 2.74543  | 0.00999759 | -201.841  | 384903 |\n",
    "|  1 | 21.5037 | 4.99533  | 0.0100229  |  -73.2601 | 549222 |\n",
    "|  2 | 16.8287 | 0.968607 | 0.00997303 | -120.439  | 470843 |"
   ]
  },
  {
   "cell_type": "code",
   "execution_count": 107,
   "metadata": {},
   "outputs": [],
   "source": [
    "import pandas as pd\n",
    "data = pd.DataFrame({\"x_0\": [16.7802, 21.5037, 16.8287], \"x_1\": [2.74543, 4.99533, 0.968607], \"x_2\": [0.00999759, 0.0100229, 0.00997303], \"x_3\": [-201.841, -73.2601, -120.439], \"x_4\": [384903, 549222, 470843]})"
   ]
  },
  {
   "cell_type": "code",
   "execution_count": 108,
   "metadata": {},
   "outputs": [
    {
     "data": {
      "text/html": [
       "<div>\n",
       "<style scoped>\n",
       "    .dataframe tbody tr th:only-of-type {\n",
       "        vertical-align: middle;\n",
       "    }\n",
       "\n",
       "    .dataframe tbody tr th {\n",
       "        vertical-align: top;\n",
       "    }\n",
       "\n",
       "    .dataframe thead th {\n",
       "        text-align: right;\n",
       "    }\n",
       "</style>\n",
       "<table border=\"1\" class=\"dataframe\">\n",
       "  <thead>\n",
       "    <tr style=\"text-align: right;\">\n",
       "      <th></th>\n",
       "      <th>x_0</th>\n",
       "      <th>x_1</th>\n",
       "      <th>x_2</th>\n",
       "      <th>x_3</th>\n",
       "      <th>x_4</th>\n",
       "    </tr>\n",
       "  </thead>\n",
       "  <tbody>\n",
       "    <tr>\n",
       "      <th>0</th>\n",
       "      <td>16.7802</td>\n",
       "      <td>2.745430</td>\n",
       "      <td>0.009998</td>\n",
       "      <td>-201.8410</td>\n",
       "      <td>384903</td>\n",
       "    </tr>\n",
       "    <tr>\n",
       "      <th>1</th>\n",
       "      <td>21.5037</td>\n",
       "      <td>4.995330</td>\n",
       "      <td>0.010023</td>\n",
       "      <td>-73.2601</td>\n",
       "      <td>549222</td>\n",
       "    </tr>\n",
       "    <tr>\n",
       "      <th>2</th>\n",
       "      <td>16.8287</td>\n",
       "      <td>0.968607</td>\n",
       "      <td>0.009973</td>\n",
       "      <td>-120.4390</td>\n",
       "      <td>470843</td>\n",
       "    </tr>\n",
       "  </tbody>\n",
       "</table>\n",
       "</div>"
      ],
      "text/plain": [
       "       x_0       x_1       x_2       x_3     x_4\n",
       "0  16.7802  2.745430  0.009998 -201.8410  384903\n",
       "1  21.5037  4.995330  0.010023  -73.2601  549222\n",
       "2  16.8287  0.968607  0.009973 -120.4390  470843"
      ]
     },
     "execution_count": 108,
     "metadata": {},
     "output_type": "execute_result"
    }
   ],
   "source": [
    "data"
   ]
  },
  {
   "cell_type": "markdown",
   "metadata": {},
   "source": [
    "Verileri ölçekleyici nesnenizin transform() metodunu kullanarak ölçekleyin. Bu metot size ölçeklenmiş değerleri içeren yeni bir dizi döndürecektir:"
   ]
  },
  {
   "cell_type": "code",
   "execution_count": 109,
   "metadata": {},
   "outputs": [
    {
     "name": "stderr",
     "output_type": "stream",
     "text": [
      "c:\\Users\\kklka\\AppData\\Local\\Programs\\Python\\Python39\\lib\\site-packages\\sklearn\\base.py:458: UserWarning: X has feature names, but StandardScaler was fitted without feature names\n",
      "  warnings.warn(\n"
     ]
    }
   ],
   "source": [
    "data_scaled = scaler.transform(data)"
   ]
  },
  {
   "cell_type": "markdown",
   "metadata": {},
   "source": [
    "Model nesnenizin predict() metodunu kullanarak verilerin y değerlerini tahmin edin. Bu metot size tahmin edilen değerleri içeren yeni bir dizi döndürecektir:"
   ]
  },
  {
   "cell_type": "code",
   "execution_count": 110,
   "metadata": {},
   "outputs": [],
   "source": [
    "y_pred = model.predict(data_scaled)"
   ]
  },
  {
   "cell_type": "code",
   "execution_count": 111,
   "metadata": {},
   "outputs": [
    {
     "name": "stdout",
     "output_type": "stream",
     "text": [
      "Tahmin edilen y değerleri [23749202.58437898 33888207.92384262 29051810.13468548]\n"
     ]
    }
   ],
   "source": [
    "print(\"Tahmin edilen y değerleri\", y_pred)"
   ]
  },
  {
   "cell_type": "markdown",
   "metadata": {},
   "source": [
    "## b. Statsmodels ile coklu lineer regresyon\n",
    "\n",
    "`scikit-learn`'e ek olarak, `statsmodels` kutuphanesi de pek cok istatistiksel analizi yapabilmektedir. Bu kisimda `statsmodels` ile lineer regresyon uygulamasi yapacagiz."
   ]
  },
  {
   "cell_type": "code",
   "execution_count": 112,
   "metadata": {},
   "outputs": [
    {
     "name": "stdout",
     "output_type": "stream",
     "text": [
      "Requirement already satisfied: statsmodels in c:\\users\\kklka\\appdata\\local\\programs\\python\\python39\\lib\\site-packages (0.14.0)\n",
      "Requirement already satisfied: scipy!=1.9.2,>=1.4 in c:\\users\\kklka\\appdata\\local\\programs\\python\\python39\\lib\\site-packages (from statsmodels) (1.11.3)\n",
      "Requirement already satisfied: patsy>=0.5.2 in c:\\users\\kklka\\appdata\\local\\programs\\python\\python39\\lib\\site-packages (from statsmodels) (0.5.3)\n",
      "Requirement already satisfied: numpy>=1.18 in c:\\users\\kklka\\appdata\\local\\programs\\python\\python39\\lib\\site-packages (from statsmodels) (1.26.1)\n",
      "Requirement already satisfied: packaging>=21.3 in c:\\users\\kklka\\appdata\\roaming\\python\\python39\\site-packages (from statsmodels) (23.2)\n",
      "Requirement already satisfied: pandas>=1.0 in c:\\users\\kklka\\appdata\\local\\programs\\python\\python39\\lib\\site-packages (from statsmodels) (2.1.1)\n",
      "Requirement already satisfied: python-dateutil>=2.8.2 in c:\\users\\kklka\\appdata\\roaming\\python\\python39\\site-packages (from pandas>=1.0->statsmodels) (2.8.2)\n",
      "Requirement already satisfied: pytz>=2020.1 in c:\\users\\kklka\\appdata\\local\\programs\\python\\python39\\lib\\site-packages (from pandas>=1.0->statsmodels) (2023.3.post1)\n",
      "Requirement already satisfied: tzdata>=2022.1 in c:\\users\\kklka\\appdata\\local\\programs\\python\\python39\\lib\\site-packages (from pandas>=1.0->statsmodels) (2023.3)\n",
      "Requirement already satisfied: six in c:\\users\\kklka\\appdata\\roaming\\python\\python39\\site-packages (from patsy>=0.5.2->statsmodels) (1.16.0)\n",
      "Note: you may need to restart the kernel to use updated packages.\n"
     ]
    },
    {
     "name": "stderr",
     "output_type": "stream",
     "text": [
      "WARNING: You are using pip version 22.0.4; however, version 23.2.1 is available.\n",
      "You should consider upgrading via the 'c:\\Users\\kklka\\AppData\\Local\\Programs\\Python\\Python39\\python.exe -m pip install --upgrade pip' command.\n"
     ]
    }
   ],
   "source": [
    "pip install statsmodels"
   ]
  },
  {
   "cell_type": "code",
   "execution_count": 113,
   "metadata": {},
   "outputs": [],
   "source": [
    "import statsmodels.api as sm"
   ]
  },
  {
   "cell_type": "markdown",
   "metadata": {},
   "source": [
    "### I. \n",
    "\n",
    "`sm.OLS` ([statsmodels `OLS` referans sayfasi](https://www.statsmodels.org/stable/generated/statsmodels.regression.linear_model.OLS.html?highlight=ols#statsmodels.regression.linear_model.OLS)) sinifi kullanarak `dataset` verisi uzerinde lineer regresyon modelini egitiniz."
   ]
  },
  {
   "cell_type": "code",
   "execution_count": 114,
   "metadata": {},
   "outputs": [
    {
     "data": {
      "text/plain": [
       "statsmodels.regression.linear_model.OLS"
      ]
     },
     "execution_count": 114,
     "metadata": {},
     "output_type": "execute_result"
    }
   ],
   "source": [
    "X = dataset.drop('y', axis=1)\n",
    "y = dataset['y']\n",
    "\n",
    "\n",
    "sm.OLS # Ordinary Least Squares (OLS) Regresyon Modeli\n",
    "# referanstan yararlanarak classi uygun sekilde kullaniniz"
   ]
  },
  {
   "cell_type": "markdown",
   "metadata": {},
   "source": [
    "sm.OLS sınıfından bir nesne oluşturun. Bu nesneyi modeliniz olarak kullanacaksınız. Bu sınıfın ilk argümanı bağımlı değişken (y) dizisi, ikinci argümanı ise bağımsız değişkenler (X) dizisidir. Ayrıca, modelinizin sabit terim (intercept) içermesini istiyorsanız, bağımsız değişkenlerinize bir sütun olarak 1 değerleri eklemeniz gerekir. Bunun için sm.add_constant() fonksiyonunu kullanabilirsiniz:"
   ]
  },
  {
   "cell_type": "code",
   "execution_count": 115,
   "metadata": {},
   "outputs": [],
   "source": [
    "model = sm.OLS(y, sm.add_constant(X))"
   ]
  },
  {
   "cell_type": "markdown",
   "metadata": {},
   "source": [
    "Modelinizi eğitim verileriyle uyumlu hale getirin. Bunun için model nesnenizin fit() metodunu çağırın:"
   ]
  },
  {
   "cell_type": "code",
   "execution_count": 116,
   "metadata": {},
   "outputs": [],
   "source": [
    "results = model.fit()"
   ]
  },
  {
   "cell_type": "markdown",
   "metadata": {},
   "source": [
    "### II.\n",
    "\n",
    "Egitmis oldugunuz lineer regresyon modelinin ozetini yazdiriniz."
   ]
  },
  {
   "cell_type": "markdown",
   "metadata": {},
   "source": [
    "Modelinizin sonuçlarını görüntüleyin. Bunun için sonuç nesnenizin summary() metodunu çağırabilirsiniz. Bu metot size modelinizin katsayılarını, p-değerlerini, R^2 skorunu ve diğer istatistiksel bilgileri içeren bir tablo döndürecektir:"
   ]
  },
  {
   "cell_type": "code",
   "execution_count": 117,
   "metadata": {},
   "outputs": [
    {
     "data": {
      "text/html": [
       "<table class=\"simpletable\">\n",
       "<caption>OLS Regression Results</caption>\n",
       "<tr>\n",
       "  <th>Dep. Variable:</th>            <td>y</td>        <th>  R-squared:         </th> <td>   0.669</td>\n",
       "</tr>\n",
       "<tr>\n",
       "  <th>Model:</th>                   <td>OLS</td>       <th>  Adj. R-squared:    </th> <td>   0.663</td>\n",
       "</tr>\n",
       "<tr>\n",
       "  <th>Method:</th>             <td>Least Squares</td>  <th>  F-statistic:       </th> <td>   118.7</td>\n",
       "</tr>\n",
       "<tr>\n",
       "  <th>Date:</th>             <td>Mon, 16 Oct 2023</td> <th>  Prob (F-statistic):</th> <td>2.25e-68</td>\n",
       "</tr>\n",
       "<tr>\n",
       "  <th>Time:</th>                 <td>00:32:28</td>     <th>  Log-Likelihood:    </th> <td> -657.77</td>\n",
       "</tr>\n",
       "<tr>\n",
       "  <th>No. Observations:</th>      <td>   300</td>      <th>  AIC:               </th> <td>   1328.</td>\n",
       "</tr>\n",
       "<tr>\n",
       "  <th>Df Residuals:</th>          <td>   294</td>      <th>  BIC:               </th> <td>   1350.</td>\n",
       "</tr>\n",
       "<tr>\n",
       "  <th>Df Model:</th>              <td>     5</td>      <th>                     </th>     <td> </td>   \n",
       "</tr>\n",
       "<tr>\n",
       "  <th>Covariance Type:</th>      <td>nonrobust</td>    <th>                     </th>     <td> </td>   \n",
       "</tr>\n",
       "</table>\n",
       "<table class=\"simpletable\">\n",
       "<tr>\n",
       "    <td></td>       <th>coef</th>     <th>std err</th>      <th>t</th>      <th>P>|t|</th>  <th>[0.025</th>    <th>0.975]</th>  \n",
       "</tr>\n",
       "<tr>\n",
       "  <th>const</th> <td>   31.8043</td> <td>   24.893</td> <td>    1.278</td> <td> 0.202</td> <td>  -17.187</td> <td>   80.796</td>\n",
       "</tr>\n",
       "<tr>\n",
       "  <th>x_0</th>   <td>   -0.0381</td> <td>    0.025</td> <td>   -1.548</td> <td> 0.123</td> <td>   -0.087</td> <td>    0.010</td>\n",
       "</tr>\n",
       "<tr>\n",
       "  <th>x_1</th>   <td>   -2.0817</td> <td>    0.110</td> <td>  -19.002</td> <td> 0.000</td> <td>   -2.297</td> <td>   -1.866</td>\n",
       "</tr>\n",
       "<tr>\n",
       "  <th>x_2</th>   <td> -781.0870</td> <td> 2488.590</td> <td>   -0.314</td> <td> 0.754</td> <td>-5678.795</td> <td> 4116.621</td>\n",
       "</tr>\n",
       "<tr>\n",
       "  <th>x_3</th>   <td> 7.291e-05</td> <td>    0.000</td> <td>    0.284</td> <td> 0.776</td> <td>   -0.000</td> <td>    0.001</td>\n",
       "</tr>\n",
       "<tr>\n",
       "  <th>x_4</th>   <td>-2.887e-05</td> <td> 1.49e-06</td> <td>  -19.421</td> <td> 0.000</td> <td>-3.18e-05</td> <td>-2.59e-05</td>\n",
       "</tr>\n",
       "</table>\n",
       "<table class=\"simpletable\">\n",
       "<tr>\n",
       "  <th>Omnibus:</th>       <td> 1.200</td> <th>  Durbin-Watson:     </th> <td>   2.209</td>\n",
       "</tr>\n",
       "<tr>\n",
       "  <th>Prob(Omnibus):</th> <td> 0.549</td> <th>  Jarque-Bera (JB):  </th> <td>   0.928</td>\n",
       "</tr>\n",
       "<tr>\n",
       "  <th>Skew:</th>          <td>-0.075</td> <th>  Prob(JB):          </th> <td>   0.629</td>\n",
       "</tr>\n",
       "<tr>\n",
       "  <th>Kurtosis:</th>      <td> 3.228</td> <th>  Cond. No.          </th> <td>9.13e+09</td>\n",
       "</tr>\n",
       "</table><br/><br/>Notes:<br/>[1] Standard Errors assume that the covariance matrix of the errors is correctly specified.<br/>[2] The condition number is large, 9.13e+09. This might indicate that there are<br/>strong multicollinearity or other numerical problems."
      ],
      "text/latex": [
       "\\begin{center}\n",
       "\\begin{tabular}{lclc}\n",
       "\\toprule\n",
       "\\textbf{Dep. Variable:}    &        y         & \\textbf{  R-squared:         } &     0.669   \\\\\n",
       "\\textbf{Model:}            &       OLS        & \\textbf{  Adj. R-squared:    } &     0.663   \\\\\n",
       "\\textbf{Method:}           &  Least Squares   & \\textbf{  F-statistic:       } &     118.7   \\\\\n",
       "\\textbf{Date:}             & Mon, 16 Oct 2023 & \\textbf{  Prob (F-statistic):} &  2.25e-68   \\\\\n",
       "\\textbf{Time:}             &     00:32:28     & \\textbf{  Log-Likelihood:    } &   -657.77   \\\\\n",
       "\\textbf{No. Observations:} &         300      & \\textbf{  AIC:               } &     1328.   \\\\\n",
       "\\textbf{Df Residuals:}     &         294      & \\textbf{  BIC:               } &     1350.   \\\\\n",
       "\\textbf{Df Model:}         &           5      & \\textbf{                     } &             \\\\\n",
       "\\textbf{Covariance Type:}  &    nonrobust     & \\textbf{                     } &             \\\\\n",
       "\\bottomrule\n",
       "\\end{tabular}\n",
       "\\begin{tabular}{lcccccc}\n",
       "               & \\textbf{coef} & \\textbf{std err} & \\textbf{t} & \\textbf{P$> |$t$|$} & \\textbf{[0.025} & \\textbf{0.975]}  \\\\\n",
       "\\midrule\n",
       "\\textbf{const} &      31.8043  &       24.893     &     1.278  &         0.202        &      -17.187    &       80.796     \\\\\n",
       "\\textbf{x\\_0}  &      -0.0381  &        0.025     &    -1.548  &         0.123        &       -0.087    &        0.010     \\\\\n",
       "\\textbf{x\\_1}  &      -2.0817  &        0.110     &   -19.002  &         0.000        &       -2.297    &       -1.866     \\\\\n",
       "\\textbf{x\\_2}  &    -781.0870  &     2488.590     &    -0.314  &         0.754        &    -5678.795    &     4116.621     \\\\\n",
       "\\textbf{x\\_3}  &    7.291e-05  &        0.000     &     0.284  &         0.776        &       -0.000    &        0.001     \\\\\n",
       "\\textbf{x\\_4}  &   -2.887e-05  &     1.49e-06     &   -19.421  &         0.000        &    -3.18e-05    &    -2.59e-05     \\\\\n",
       "\\bottomrule\n",
       "\\end{tabular}\n",
       "\\begin{tabular}{lclc}\n",
       "\\textbf{Omnibus:}       &  1.200 & \\textbf{  Durbin-Watson:     } &    2.209  \\\\\n",
       "\\textbf{Prob(Omnibus):} &  0.549 & \\textbf{  Jarque-Bera (JB):  } &    0.928  \\\\\n",
       "\\textbf{Skew:}          & -0.075 & \\textbf{  Prob(JB):          } &    0.629  \\\\\n",
       "\\textbf{Kurtosis:}      &  3.228 & \\textbf{  Cond. No.          } & 9.13e+09  \\\\\n",
       "\\bottomrule\n",
       "\\end{tabular}\n",
       "%\\caption{OLS Regression Results}\n",
       "\\end{center}\n",
       "\n",
       "Notes: \\newline\n",
       " [1] Standard Errors assume that the covariance matrix of the errors is correctly specified. \\newline\n",
       " [2] The condition number is large, 9.13e+09. This might indicate that there are \\newline\n",
       " strong multicollinearity or other numerical problems."
      ],
      "text/plain": [
       "<class 'statsmodels.iolib.summary.Summary'>\n",
       "\"\"\"\n",
       "                            OLS Regression Results                            \n",
       "==============================================================================\n",
       "Dep. Variable:                      y   R-squared:                       0.669\n",
       "Model:                            OLS   Adj. R-squared:                  0.663\n",
       "Method:                 Least Squares   F-statistic:                     118.7\n",
       "Date:                Mon, 16 Oct 2023   Prob (F-statistic):           2.25e-68\n",
       "Time:                        00:32:28   Log-Likelihood:                -657.77\n",
       "No. Observations:                 300   AIC:                             1328.\n",
       "Df Residuals:                     294   BIC:                             1350.\n",
       "Df Model:                           5                                         \n",
       "Covariance Type:            nonrobust                                         \n",
       "==============================================================================\n",
       "                 coef    std err          t      P>|t|      [0.025      0.975]\n",
       "------------------------------------------------------------------------------\n",
       "const         31.8043     24.893      1.278      0.202     -17.187      80.796\n",
       "x_0           -0.0381      0.025     -1.548      0.123      -0.087       0.010\n",
       "x_1           -2.0817      0.110    -19.002      0.000      -2.297      -1.866\n",
       "x_2         -781.0870   2488.590     -0.314      0.754   -5678.795    4116.621\n",
       "x_3         7.291e-05      0.000      0.284      0.776      -0.000       0.001\n",
       "x_4        -2.887e-05   1.49e-06    -19.421      0.000   -3.18e-05   -2.59e-05\n",
       "==============================================================================\n",
       "Omnibus:                        1.200   Durbin-Watson:                   2.209\n",
       "Prob(Omnibus):                  0.549   Jarque-Bera (JB):                0.928\n",
       "Skew:                          -0.075   Prob(JB):                        0.629\n",
       "Kurtosis:                       3.228   Cond. No.                     9.13e+09\n",
       "==============================================================================\n",
       "\n",
       "Notes:\n",
       "[1] Standard Errors assume that the covariance matrix of the errors is correctly specified.\n",
       "[2] The condition number is large, 9.13e+09. This might indicate that there are\n",
       "strong multicollinearity or other numerical problems.\n",
       "\"\"\""
      ]
     },
     "metadata": {},
     "output_type": "display_data"
    }
   ],
   "source": [
    "display(results.summary())"
   ]
  },
  {
   "cell_type": "markdown",
   "metadata": {},
   "source": [
    "### III.\n",
    "\n",
    "Model ozetine gore, hangi degiskenlerin katsayilari istatistiksel olarak 0'dan farkli degildir? (katsayinin 0 olmasi, degiskenin etkisiz olduguna isaret edecektir.)\n",
    "\n",
    "Soruyu cevaplarken ozet tablosundaki hangi verilerden yararlandiginizi aciklayiniz."
   ]
  },
  {
   "cell_type": "markdown",
   "metadata": {},
   "source": [
    "Model özetine göre, x_0, x_2 ve x_3 değişkenlerinin katsayıları istatistiksel olarak 0’dan farklı değildir. Bu değişkenlerin etkisiz olduğuna işaret edebilir.\n",
    "\n",
    "Soruyu cevaplarken özet tablosundaki p-değerleri (P>|t|) sütunundan yararlandım. P-değeri, katsayının 0 olduğu hipotezinin reddedilme olasılığını gösterir. P-değeri küçükse, katsayının 0 olduğu hipotezi reddedilir ve katsayının anlamlı olduğu sonucuna varılır. P-değeri büyükse, katsayının 0 olduğu hipotezi reddedilemez ve katsayının anlamsız olduğu sonucuna varılır.\n",
    "\n",
    "Genellikle, p-değeri 0.05’ten küçükse, katsayının anlamlı olduğu kabul edilir. Bu durumda, x_0, x_2 ve x_3 değişkenlerinin p-değerleri 0.05’ten büyük olduğu için, katsayılarının 0’dan farklı olmadığını söyleyebiliriz."
   ]
  },
  {
   "cell_type": "markdown",
   "metadata": {},
   "source": [
    "### IV.\n",
    "\n",
    "`sm.formula.ols` fonksiyonunu kullanarak, `dataset` verisi uzerinde lineer regresyon modelini egitiniz.\n",
    "\n",
    "[statsmodels `formula` referans sayfasi](https://www.statsmodels.org/stable/generated/statsmodels.formula.api.ols.html?highlight=ols#statsmodels.formula.api.ols)\n",
    "\n",
    "- Yukarida tespit etmis oldugunuz etkisiz degiskenlerden ikisini modelden cikariniz.\n",
    "- Ozet tablosuna gore, modelinizin performansini rapor ediniz."
   ]
  },
  {
   "cell_type": "code",
   "execution_count": 118,
   "metadata": {},
   "outputs": [
    {
     "data": {
      "text/html": [
       "<table class=\"simpletable\">\n",
       "<caption>OLS Regression Results</caption>\n",
       "<tr>\n",
       "  <th>Dep. Variable:</th>            <td>y</td>        <th>  R-squared (uncentered):</th>      <td>   0.383</td>\n",
       "</tr>\n",
       "<tr>\n",
       "  <th>Model:</th>                   <td>OLS</td>       <th>  Adj. R-squared (uncentered):</th> <td>   0.379</td>\n",
       "</tr>\n",
       "<tr>\n",
       "  <th>Method:</th>             <td>Least Squares</td>  <th>  F-statistic:       </th>          <td>   92.51</td>\n",
       "</tr>\n",
       "<tr>\n",
       "  <th>Date:</th>             <td>Mon, 16 Oct 2023</td> <th>  Prob (F-statistic):</th>          <td>5.58e-32</td>\n",
       "</tr>\n",
       "<tr>\n",
       "  <th>Time:</th>                 <td>00:32:29</td>     <th>  Log-Likelihood:    </th>          <td> -849.95</td>\n",
       "</tr>\n",
       "<tr>\n",
       "  <th>No. Observations:</th>      <td>   300</td>      <th>  AIC:               </th>          <td>   1704.</td>\n",
       "</tr>\n",
       "<tr>\n",
       "  <th>Df Residuals:</th>          <td>   298</td>      <th>  BIC:               </th>          <td>   1711.</td>\n",
       "</tr>\n",
       "<tr>\n",
       "  <th>Df Model:</th>              <td>     2</td>      <th>                     </th>              <td> </td>   \n",
       "</tr>\n",
       "<tr>\n",
       "  <th>Covariance Type:</th>      <td>nonrobust</td>    <th>                     </th>              <td> </td>   \n",
       "</tr>\n",
       "</table>\n",
       "<table class=\"simpletable\">\n",
       "<tr>\n",
       "   <td></td>      <th>coef</th>     <th>std err</th>      <th>t</th>      <th>P>|t|</th>  <th>[0.025</th>    <th>0.975]</th>  \n",
       "</tr>\n",
       "<tr>\n",
       "  <th>x_1</th> <td>   -0.2280</td> <td>    0.155</td> <td>   -1.470</td> <td> 0.143</td> <td>   -0.533</td> <td>    0.077</td>\n",
       "</tr>\n",
       "<tr>\n",
       "  <th>x_4</th> <td> 8.415e-06</td> <td> 1.12e-06</td> <td>    7.509</td> <td> 0.000</td> <td> 6.21e-06</td> <td> 1.06e-05</td>\n",
       "</tr>\n",
       "</table>\n",
       "<table class=\"simpletable\">\n",
       "<tr>\n",
       "  <th>Omnibus:</th>       <td> 8.957</td> <th>  Durbin-Watson:     </th> <td>   1.922</td>\n",
       "</tr>\n",
       "<tr>\n",
       "  <th>Prob(Omnibus):</th> <td> 0.011</td> <th>  Jarque-Bera (JB):  </th> <td>  15.187</td>\n",
       "</tr>\n",
       "<tr>\n",
       "  <th>Skew:</th>          <td>-0.114</td> <th>  Prob(JB):          </th> <td>0.000504</td>\n",
       "</tr>\n",
       "<tr>\n",
       "  <th>Kurtosis:</th>      <td> 4.078</td> <th>  Cond. No.          </th> <td>3.02e+05</td>\n",
       "</tr>\n",
       "</table><br/><br/>Notes:<br/>[1] R² is computed without centering (uncentered) since the model does not contain a constant.<br/>[2] Standard Errors assume that the covariance matrix of the errors is correctly specified.<br/>[3] The condition number is large, 3.02e+05. This might indicate that there are<br/>strong multicollinearity or other numerical problems."
      ],
      "text/latex": [
       "\\begin{center}\n",
       "\\begin{tabular}{lclc}\n",
       "\\toprule\n",
       "\\textbf{Dep. Variable:}    &        y         & \\textbf{  R-squared (uncentered):}      &     0.383   \\\\\n",
       "\\textbf{Model:}            &       OLS        & \\textbf{  Adj. R-squared (uncentered):} &     0.379   \\\\\n",
       "\\textbf{Method:}           &  Least Squares   & \\textbf{  F-statistic:       }          &     92.51   \\\\\n",
       "\\textbf{Date:}             & Mon, 16 Oct 2023 & \\textbf{  Prob (F-statistic):}          &  5.58e-32   \\\\\n",
       "\\textbf{Time:}             &     00:32:29     & \\textbf{  Log-Likelihood:    }          &   -849.95   \\\\\n",
       "\\textbf{No. Observations:} &         300      & \\textbf{  AIC:               }          &     1704.   \\\\\n",
       "\\textbf{Df Residuals:}     &         298      & \\textbf{  BIC:               }          &     1711.   \\\\\n",
       "\\textbf{Df Model:}         &           2      & \\textbf{                     }          &             \\\\\n",
       "\\textbf{Covariance Type:}  &    nonrobust     & \\textbf{                     }          &             \\\\\n",
       "\\bottomrule\n",
       "\\end{tabular}\n",
       "\\begin{tabular}{lcccccc}\n",
       "              & \\textbf{coef} & \\textbf{std err} & \\textbf{t} & \\textbf{P$> |$t$|$} & \\textbf{[0.025} & \\textbf{0.975]}  \\\\\n",
       "\\midrule\n",
       "\\textbf{x\\_1} &      -0.2280  &        0.155     &    -1.470  &         0.143        &       -0.533    &        0.077     \\\\\n",
       "\\textbf{x\\_4} &    8.415e-06  &     1.12e-06     &     7.509  &         0.000        &     6.21e-06    &     1.06e-05     \\\\\n",
       "\\bottomrule\n",
       "\\end{tabular}\n",
       "\\begin{tabular}{lclc}\n",
       "\\textbf{Omnibus:}       &  8.957 & \\textbf{  Durbin-Watson:     } &    1.922  \\\\\n",
       "\\textbf{Prob(Omnibus):} &  0.011 & \\textbf{  Jarque-Bera (JB):  } &   15.187  \\\\\n",
       "\\textbf{Skew:}          & -0.114 & \\textbf{  Prob(JB):          } & 0.000504  \\\\\n",
       "\\textbf{Kurtosis:}      &  4.078 & \\textbf{  Cond. No.          } & 3.02e+05  \\\\\n",
       "\\bottomrule\n",
       "\\end{tabular}\n",
       "%\\caption{OLS Regression Results}\n",
       "\\end{center}\n",
       "\n",
       "Notes: \\newline\n",
       " [1] R² is computed without centering (uncentered) since the model does not contain a constant. \\newline\n",
       " [2] Standard Errors assume that the covariance matrix of the errors is correctly specified. \\newline\n",
       " [3] The condition number is large, 3.02e+05. This might indicate that there are \\newline\n",
       " strong multicollinearity or other numerical problems."
      ],
      "text/plain": [
       "<class 'statsmodels.iolib.summary.Summary'>\n",
       "\"\"\"\n",
       "                                 OLS Regression Results                                \n",
       "=======================================================================================\n",
       "Dep. Variable:                      y   R-squared (uncentered):                   0.383\n",
       "Model:                            OLS   Adj. R-squared (uncentered):              0.379\n",
       "Method:                 Least Squares   F-statistic:                              92.51\n",
       "Date:                Mon, 16 Oct 2023   Prob (F-statistic):                    5.58e-32\n",
       "Time:                        00:32:29   Log-Likelihood:                         -849.95\n",
       "No. Observations:                 300   AIC:                                      1704.\n",
       "Df Residuals:                     298   BIC:                                      1711.\n",
       "Df Model:                           2                                                  \n",
       "Covariance Type:            nonrobust                                                  \n",
       "==============================================================================\n",
       "                 coef    std err          t      P>|t|      [0.025      0.975]\n",
       "------------------------------------------------------------------------------\n",
       "x_1           -0.2280      0.155     -1.470      0.143      -0.533       0.077\n",
       "x_4         8.415e-06   1.12e-06      7.509      0.000    6.21e-06    1.06e-05\n",
       "==============================================================================\n",
       "Omnibus:                        8.957   Durbin-Watson:                   1.922\n",
       "Prob(Omnibus):                  0.011   Jarque-Bera (JB):               15.187\n",
       "Skew:                          -0.114   Prob(JB):                     0.000504\n",
       "Kurtosis:                       4.078   Cond. No.                     3.02e+05\n",
       "==============================================================================\n",
       "\n",
       "Notes:\n",
       "[1] R² is computed without centering (uncentered) since the model does not contain a constant.\n",
       "[2] Standard Errors assume that the covariance matrix of the errors is correctly specified.\n",
       "[3] The condition number is large, 3.02e+05. This might indicate that there are\n",
       "strong multicollinearity or other numerical problems.\n",
       "\"\"\""
      ]
     },
     "execution_count": 118,
     "metadata": {},
     "output_type": "execute_result"
    }
   ],
   "source": [
    "# Ornek model\n",
    "\n",
    "result = sm.formula.ols('y ~ x_1 + x_4 - 1', data=dataset).fit()  # degiskenler rastgele secilmistir\n",
    "result.summary()"
   ]
  },
  {
   "cell_type": "code",
   "execution_count": 119,
   "metadata": {},
   "outputs": [],
   "source": [
    "import statsmodels.formula.api as smf"
   ]
  },
  {
   "cell_type": "markdown",
   "metadata": {},
   "source": [
    "smf.ols fonksiyonunu kullanarak modelinizi oluşturun. Bu fonksiyonun ilk argümanı formül, ikinci argümanı ise veri çerçevesidir. Formülde, bağımlı değişkeni (y) ve bağımsız değişkenleri (x_0, x_1, …) belirtmeniz gerekir. Ayrıca, modelinizin sabit terim (intercept) içermesini istemiyorsanız, formülün sonuna -1 eklemeniz gerekir. Örneğin, etkisiz olduğunu tespit ettiğiniz x_0 ve x_2 değişkenlerini modelden çıkarmak isterseniz, şöyle yapabilirsiniz:"
   ]
  },
  {
   "cell_type": "code",
   "execution_count": 120,
   "metadata": {},
   "outputs": [],
   "source": [
    "model = smf.ols(formula='y ~ x_1 + x_4 - 1', data=dataset)"
   ]
  },
  {
   "cell_type": "markdown",
   "metadata": {},
   "source": [
    "Modelinizi eğitim verileriyle uyumlu hale getirin. Bunun için model nesnenizin fit() metodunu çağırın:"
   ]
  },
  {
   "cell_type": "code",
   "execution_count": 121,
   "metadata": {},
   "outputs": [],
   "source": [
    "results = model.fit()"
   ]
  },
  {
   "cell_type": "markdown",
   "metadata": {},
   "source": [
    "Modelinizin sonuçlarını görüntüleyin. Bunun için sonuç nesnenizin summary() metodunu çağırabilirsiniz. Bu metot size modelinizin katsayılarını, p-değerlerini, R^2 skorunu ve diğer istatistiksel bilgileri içeren bir tablo döndürecektir:"
   ]
  },
  {
   "cell_type": "code",
   "execution_count": 122,
   "metadata": {},
   "outputs": [
    {
     "data": {
      "text/html": [
       "<table class=\"simpletable\">\n",
       "<caption>OLS Regression Results</caption>\n",
       "<tr>\n",
       "  <th>Dep. Variable:</th>            <td>y</td>        <th>  R-squared (uncentered):</th>      <td>   0.383</td>\n",
       "</tr>\n",
       "<tr>\n",
       "  <th>Model:</th>                   <td>OLS</td>       <th>  Adj. R-squared (uncentered):</th> <td>   0.379</td>\n",
       "</tr>\n",
       "<tr>\n",
       "  <th>Method:</th>             <td>Least Squares</td>  <th>  F-statistic:       </th>          <td>   92.51</td>\n",
       "</tr>\n",
       "<tr>\n",
       "  <th>Date:</th>             <td>Mon, 16 Oct 2023</td> <th>  Prob (F-statistic):</th>          <td>5.58e-32</td>\n",
       "</tr>\n",
       "<tr>\n",
       "  <th>Time:</th>                 <td>00:32:32</td>     <th>  Log-Likelihood:    </th>          <td> -849.95</td>\n",
       "</tr>\n",
       "<tr>\n",
       "  <th>No. Observations:</th>      <td>   300</td>      <th>  AIC:               </th>          <td>   1704.</td>\n",
       "</tr>\n",
       "<tr>\n",
       "  <th>Df Residuals:</th>          <td>   298</td>      <th>  BIC:               </th>          <td>   1711.</td>\n",
       "</tr>\n",
       "<tr>\n",
       "  <th>Df Model:</th>              <td>     2</td>      <th>                     </th>              <td> </td>   \n",
       "</tr>\n",
       "<tr>\n",
       "  <th>Covariance Type:</th>      <td>nonrobust</td>    <th>                     </th>              <td> </td>   \n",
       "</tr>\n",
       "</table>\n",
       "<table class=\"simpletable\">\n",
       "<tr>\n",
       "   <td></td>      <th>coef</th>     <th>std err</th>      <th>t</th>      <th>P>|t|</th>  <th>[0.025</th>    <th>0.975]</th>  \n",
       "</tr>\n",
       "<tr>\n",
       "  <th>x_1</th> <td>   -0.2280</td> <td>    0.155</td> <td>   -1.470</td> <td> 0.143</td> <td>   -0.533</td> <td>    0.077</td>\n",
       "</tr>\n",
       "<tr>\n",
       "  <th>x_4</th> <td> 8.415e-06</td> <td> 1.12e-06</td> <td>    7.509</td> <td> 0.000</td> <td> 6.21e-06</td> <td> 1.06e-05</td>\n",
       "</tr>\n",
       "</table>\n",
       "<table class=\"simpletable\">\n",
       "<tr>\n",
       "  <th>Omnibus:</th>       <td> 8.957</td> <th>  Durbin-Watson:     </th> <td>   1.922</td>\n",
       "</tr>\n",
       "<tr>\n",
       "  <th>Prob(Omnibus):</th> <td> 0.011</td> <th>  Jarque-Bera (JB):  </th> <td>  15.187</td>\n",
       "</tr>\n",
       "<tr>\n",
       "  <th>Skew:</th>          <td>-0.114</td> <th>  Prob(JB):          </th> <td>0.000504</td>\n",
       "</tr>\n",
       "<tr>\n",
       "  <th>Kurtosis:</th>      <td> 4.078</td> <th>  Cond. No.          </th> <td>3.02e+05</td>\n",
       "</tr>\n",
       "</table><br/><br/>Notes:<br/>[1] R² is computed without centering (uncentered) since the model does not contain a constant.<br/>[2] Standard Errors assume that the covariance matrix of the errors is correctly specified.<br/>[3] The condition number is large, 3.02e+05. This might indicate that there are<br/>strong multicollinearity or other numerical problems."
      ],
      "text/latex": [
       "\\begin{center}\n",
       "\\begin{tabular}{lclc}\n",
       "\\toprule\n",
       "\\textbf{Dep. Variable:}    &        y         & \\textbf{  R-squared (uncentered):}      &     0.383   \\\\\n",
       "\\textbf{Model:}            &       OLS        & \\textbf{  Adj. R-squared (uncentered):} &     0.379   \\\\\n",
       "\\textbf{Method:}           &  Least Squares   & \\textbf{  F-statistic:       }          &     92.51   \\\\\n",
       "\\textbf{Date:}             & Mon, 16 Oct 2023 & \\textbf{  Prob (F-statistic):}          &  5.58e-32   \\\\\n",
       "\\textbf{Time:}             &     00:32:32     & \\textbf{  Log-Likelihood:    }          &   -849.95   \\\\\n",
       "\\textbf{No. Observations:} &         300      & \\textbf{  AIC:               }          &     1704.   \\\\\n",
       "\\textbf{Df Residuals:}     &         298      & \\textbf{  BIC:               }          &     1711.   \\\\\n",
       "\\textbf{Df Model:}         &           2      & \\textbf{                     }          &             \\\\\n",
       "\\textbf{Covariance Type:}  &    nonrobust     & \\textbf{                     }          &             \\\\\n",
       "\\bottomrule\n",
       "\\end{tabular}\n",
       "\\begin{tabular}{lcccccc}\n",
       "              & \\textbf{coef} & \\textbf{std err} & \\textbf{t} & \\textbf{P$> |$t$|$} & \\textbf{[0.025} & \\textbf{0.975]}  \\\\\n",
       "\\midrule\n",
       "\\textbf{x\\_1} &      -0.2280  &        0.155     &    -1.470  &         0.143        &       -0.533    &        0.077     \\\\\n",
       "\\textbf{x\\_4} &    8.415e-06  &     1.12e-06     &     7.509  &         0.000        &     6.21e-06    &     1.06e-05     \\\\\n",
       "\\bottomrule\n",
       "\\end{tabular}\n",
       "\\begin{tabular}{lclc}\n",
       "\\textbf{Omnibus:}       &  8.957 & \\textbf{  Durbin-Watson:     } &    1.922  \\\\\n",
       "\\textbf{Prob(Omnibus):} &  0.011 & \\textbf{  Jarque-Bera (JB):  } &   15.187  \\\\\n",
       "\\textbf{Skew:}          & -0.114 & \\textbf{  Prob(JB):          } & 0.000504  \\\\\n",
       "\\textbf{Kurtosis:}      &  4.078 & \\textbf{  Cond. No.          } & 3.02e+05  \\\\\n",
       "\\bottomrule\n",
       "\\end{tabular}\n",
       "%\\caption{OLS Regression Results}\n",
       "\\end{center}\n",
       "\n",
       "Notes: \\newline\n",
       " [1] R² is computed without centering (uncentered) since the model does not contain a constant. \\newline\n",
       " [2] Standard Errors assume that the covariance matrix of the errors is correctly specified. \\newline\n",
       " [3] The condition number is large, 3.02e+05. This might indicate that there are \\newline\n",
       " strong multicollinearity or other numerical problems."
      ],
      "text/plain": [
       "<class 'statsmodels.iolib.summary.Summary'>\n",
       "\"\"\"\n",
       "                                 OLS Regression Results                                \n",
       "=======================================================================================\n",
       "Dep. Variable:                      y   R-squared (uncentered):                   0.383\n",
       "Model:                            OLS   Adj. R-squared (uncentered):              0.379\n",
       "Method:                 Least Squares   F-statistic:                              92.51\n",
       "Date:                Mon, 16 Oct 2023   Prob (F-statistic):                    5.58e-32\n",
       "Time:                        00:32:32   Log-Likelihood:                         -849.95\n",
       "No. Observations:                 300   AIC:                                      1704.\n",
       "Df Residuals:                     298   BIC:                                      1711.\n",
       "Df Model:                           2                                                  \n",
       "Covariance Type:            nonrobust                                                  \n",
       "==============================================================================\n",
       "                 coef    std err          t      P>|t|      [0.025      0.975]\n",
       "------------------------------------------------------------------------------\n",
       "x_1           -0.2280      0.155     -1.470      0.143      -0.533       0.077\n",
       "x_4         8.415e-06   1.12e-06      7.509      0.000    6.21e-06    1.06e-05\n",
       "==============================================================================\n",
       "Omnibus:                        8.957   Durbin-Watson:                   1.922\n",
       "Prob(Omnibus):                  0.011   Jarque-Bera (JB):               15.187\n",
       "Skew:                          -0.114   Prob(JB):                     0.000504\n",
       "Kurtosis:                       4.078   Cond. No.                     3.02e+05\n",
       "==============================================================================\n",
       "\n",
       "Notes:\n",
       "[1] R² is computed without centering (uncentered) since the model does not contain a constant.\n",
       "[2] Standard Errors assume that the covariance matrix of the errors is correctly specified.\n",
       "[3] The condition number is large, 3.02e+05. This might indicate that there are\n",
       "strong multicollinearity or other numerical problems.\n",
       "\"\"\""
      ]
     },
     "execution_count": 122,
     "metadata": {},
     "output_type": "execute_result"
    }
   ],
   "source": [
    "results.summary()"
   ]
  },
  {
   "cell_type": "markdown",
   "metadata": {},
   "source": [
    "Modelinizin performansını rapor edin. Bunun için özet tablosundaki R^2 skoruna bakabilirsiniz. R^2 skoru, modelinizin bağımlı değişkenin varyansını ne kadar açıkladığını gösterir. R^2 skoru 0 ile 1 arasında bir değer alır ve ne kadar yüksekse modeliniz o kadar iyi demektir."
   ]
  },
  {
   "cell_type": "markdown",
   "metadata": {},
   "source": [
    "### V.\n",
    "\n",
    "Ozet tablosundaki asagidaki terimlerin anlamlariyla ilgili kisa bilgi veriniz:\n",
    "\n",
    "- `F-statistic`\n",
    "- `Log-likelihood`\n",
    "- `AIC`\n",
    "- `BIC`\n",
    "- `Jarque-Bera`\n",
    "- `Durbin-Watson`\n",
    "- `Cond. No.`\n"
   ]
  },
  {
   "cell_type": "markdown",
   "metadata": {},
   "source": [
    "- F-statistic: Modelinizin tüm katsayılarının 0 olduğu hipotezinin reddedilme olasılığını gösterir. F-istatistiği büyükse, modelinizin anlamlı olduğu sonucuna varılır. F-istatistiğinin p-değeri (Prob (F-statistic)) ise bu sonucun güvenilirliğini gösterir. P-değeri küçükse, modelinizin anlamlı olduğu kabul edilir.\n",
    "- Log-likelihood: Modelinizin verileri ne kadar iyi ürettiğini gösterir. Log-olasılık değeri büyükse, modeliniz verileri iyi açıklıyor demektir. Log-olasılık değeri, modelinizin karmaşıklığına bağlı olarak değişir. Karmaşık modeller daha yüksek log-olasılık değerine sahip olabilir, ancak bu her zaman daha iyi oldukları anlamına gelmez.\n",
    "- AIC: Modelinizin karmaşıklığını ve uyumunu bir arada değerlendiren bir ölçüttür. AIC, log-olasılık değerinden modelinizdeki parametre sayısının iki katını çıkararak hesaplanır. AIC değeri küçükse, modeliniz hem uyumlu hem de basit demektir. AIC, farklı modelleri karşılaştırmak için kullanılabilir.\n",
    "- BIC: Modelinizin karmaşıklığını ve uyumunu bir arada değerlendiren bir başka ölçüttür. BIC, log-olasılık değerinden modelinizdeki parametre sayısının veri sayısının doğal logaritması ile çarpımını çıkararak hesaplanır. BIC değeri küçükse, modeliniz hem uyumlu hem de basit demektir. BIC, farklı modelleri karşılaştırmak için kullanılabilir.\n",
    "- Jarque-Bera: Modelinizin hata terimlerinin normal dağılıma uyup uymadığını test eden bir istatistiktir. Jarque-Bera istatistiği küçükse, hata terimleri normal dağılıma yakın demektir. Jarque-Bera istatistiğinin p-değeri (Prob(JB)) ise bu sonucun güvenilirliğini gösterir. P-değeri büyükse, hata terimleri normal dağılıma uyuyor demektir.\n",
    "- Durbin-Watson: Modelinizin hata terimlerinin otokorelasyon (birbiriyle ilişkili olma) durumunu test eden bir istatistiktir. Durbin-Watson istatistiği 0 ile 4 arasında bir değer alır ve 2’ye yakın olması idealdir. Durbin-Watson istatistiği 2’den çok küçükse, hata terimleri pozitif otokorelasyon gösteriyor demektir. Durbin-Watson istatistiği 2’den çok büyükse, hata terimleri negatif otokorelasyon gösteriyor demektir.\n",
    "- Cond. No.: Modelinizin çoklu doğrusal bağlantı (bağımsız değişkenler arasında yüksek korelasyon) sorunu olup olmadığını gösteren bir ölçüttür. Cond. No. (Condition Number) değeri büyükse, modelinizde çoklu doğrusal bağlantı sorunu var demektir."
   ]
  },
  {
   "cell_type": "markdown",
   "metadata": {},
   "source": [
    "## c. Lineer regresyon varsayimlari"
   ]
  },
  {
   "cell_type": "markdown",
   "metadata": {},
   "source": [
    "### I.\n",
    "\n",
    "Lineer regresyonun kullanilabilmesi (ya da sonuclarin anlamli bir sekilde yorumlanabilmesi) icin, datasetin hangi **varsayimlara** uymasi gerekmektedir?"
   ]
  },
  {
   "cell_type": "markdown",
   "metadata": {},
   "source": [
    "Lineer regresyonun kullanılabilmesi (ya da sonuçların anlamlı bir şekilde yorumlanabilmesi) için, datasetin aşağıdaki varsayımlara uyması gerekmektedir:\n",
    "\n",
    "- Lineerlik: Bağımlı değişken ile bağımsız değişkenler arasında lineer bir ilişki olmalıdır. Bu varsayım, saçılım (scatter) grafikleri veya kısmi regresyon (partial regression) grafikleri ile kontrol edilebilir.\n",
    "- Normal dağılım: Modelin hata terimleri normal dağılıma uygun olmalıdır. Bu varsayım, Q-Q (quantile-quantile) grafikleri veya Jarque-Bera testi ile kontrol edilebilir.\n",
    "- Homoskedastisite: Modelin hata terimlerinin varyansı bağımsız değişkenlerden bağımsız olmalıdır. Yani, hata terimleri sabit bir varyansa sahip olmalıdır. Bu varsayım, saçılım grafikleri veya Breusch-Pagan testi ile kontrol edilebilir.\n",
    "- Otokorelasyon: Modelin hata terimleri birbiriyle ilişkili olmamalıdır. Yani, hata terimleri bağımsız ve rastgele olmalıdır. Bu varsayım, Durbin-Watson testi ile kontrol edilebilir.\n",
    "- Çoklu doğrusal bağlantı: Bağımsız değişkenler arasında yüksek korelasyon olmamalıdır. Yani, bağımsız değişkenler birbirinden bağımsız olmalıdır. Bu varsayım, korelasyon matrisi, VIF (Variance Inflation Factor) değerleri veya Condition Number değeri ile kontrol edilebilir."
   ]
  },
  {
   "cell_type": "markdown",
   "metadata": {},
   "source": [
    "### II.\n",
    "\n",
    "`b.V`'de aciklamis oldugunuz terimleri, kontrol ettikleri varsayimlar ile eslestiriniz"
   ]
  },
  {
   "cell_type": "markdown",
   "metadata": {},
   "source": []
  },
  {
   "cell_type": "markdown",
   "metadata": {},
   "source": [
    "- F-statistic: Modelinizin tüm katsayılarının 0 olduğu hipotezini test eder. Bu hipotez, modelinizin anlamlı olup olmadığı ile ilgilidir. Bu varsayım lineer regresyonun temelidir.\n",
    "- Log-likelihood: Modelinizin verileri ne kadar iyi ürettiğini ölçer. Bu değer, modelinizin uyumunu gösterir. Bu varsayım lineer regresyonun temelidir.\n",
    "- AIC: Modelinizin karmaşıklığını ve uyumunu bir arada değerlendiren bir ölçüttür. Bu değer, farklı modelleri karşılaştırmak için kullanılır. Bu varsayım lineer regresyonun temelidir.\n",
    "- BIC: Modelinizin karmaşıklığını ve uyumunu bir arada değerlendiren bir başka ölçüttür. Bu değer, farklı modelleri karşılaştırmak için kullanılır. Bu varsayım lineer regresyonun temelidir.\n",
    "- Jarque-Bera: Modelinizin hata terimlerinin normal dağılıma uyup uymadığını test eden bir istatistiktir. Bu test, normal dağılım varsayımını kontrol eder.\n",
    "- Durbin-Watson: Modelinizin hata terimlerinin otokorelasyon (birbiriyle ilişkili olma) durumunu test eden bir istatistiktir. Bu test, otokorelasyon varsayımını kontrol eder.\n",
    "- Cond. No.: Modelinizin çoklu doğrusal bağlantı (bağımsız değişkenler arasında yüksek korelasyon) sorunu olup olmadığını gösteren bir ölçüttür. Bu ölçüt, çoklu doğrusal bağlantı varsayımını kontrol eder."
   ]
  },
  {
   "cell_type": "markdown",
   "metadata": {},
   "source": [
    "### III.\n",
    "\n",
    "`b.V`'de aciklamis oldugunuz terimlerden hangileri, iki farkli degiskenlerle olusturulmus iki lineer regresyon modelini karsilastirmak icin kullanilabilir?"
   ]
  },
  {
   "cell_type": "markdown",
   "metadata": {},
   "source": []
  },
  {
   "cell_type": "markdown",
   "metadata": {},
   "source": [
    "Açıklamış olduğum terimlerden, iki farklı değişkenlerle oluşturulmuş iki lineer regresyon modelini karşılaştırmak için kullanılabilecek olanlar şunlardır:\n",
    "\n",
    "- F-statistic: Eğer iki model arasında yalnızca bir değişken farkı varsa, F-istatistiği ile bu değişkenin modelde anlamlı bir etkisi olup olmadığını test edebilirsiniz. F-istatistiği büyükse ve p-değeri küçükse, değişkenin modelde anlamlı bir etkisi olduğu sonucuna varabilirsiniz.\n",
    "- AIC: Eğer iki model arasında birden fazla değişken farkı varsa, AIC değerleri ile modellerin karmaşıklık ve uyum dengesini karşılaştırabilirsiniz. AIC değeri küçük olan model daha iyi bir seçimdir.\n",
    "- BIC: Eğer iki model arasında birden fazla değişken farkı varsa, BIC değerleri ile modellerin karmaşıklık ve uyum dengesini karşılaştırabilirsiniz. BIC değeri küçük olan model daha iyi bir seçimdir."
   ]
  },
  {
   "cell_type": "markdown",
   "metadata": {},
   "source": [
    "# 2. Non-lineer problemlerin donusumler ile lineerlestirilmesi"
   ]
  },
  {
   "cell_type": "markdown",
   "metadata": {},
   "source": [
    "Verilen datasette bir urune ait farkli magazalardaki % indirim oranlari ve satis rakamlari sunulmustur.\n",
    "\n",
    "- `indirim`: % cinsinden indirim oranlari. Ornegin, etiket fiyati 100 TL olan bir mal 90 TL'ye satiliyorsa indirim %10 olarak gozukecektir.\n",
    "- `satis`: Adet cinsinden satis rakamlari.\n",
    "- `urun_no`: Urun numaralari.\n",
    "- `magaza`: Magaza kodu."
   ]
  },
  {
   "cell_type": "code",
   "execution_count": 123,
   "metadata": {},
   "outputs": [
    {
     "data": {
      "text/html": [
       "<div>\n",
       "<style scoped>\n",
       "    .dataframe tbody tr th:only-of-type {\n",
       "        vertical-align: middle;\n",
       "    }\n",
       "\n",
       "    .dataframe tbody tr th {\n",
       "        vertical-align: top;\n",
       "    }\n",
       "\n",
       "    .dataframe thead th {\n",
       "        text-align: right;\n",
       "    }\n",
       "</style>\n",
       "<table border=\"1\" class=\"dataframe\">\n",
       "  <thead>\n",
       "    <tr style=\"text-align: right;\">\n",
       "      <th></th>\n",
       "      <th>indirim</th>\n",
       "      <th>satis</th>\n",
       "      <th>urun_no</th>\n",
       "      <th>magaza</th>\n",
       "    </tr>\n",
       "  </thead>\n",
       "  <tbody>\n",
       "    <tr>\n",
       "      <th>0</th>\n",
       "      <td>48.562845</td>\n",
       "      <td>120</td>\n",
       "      <td>1</td>\n",
       "      <td>B</td>\n",
       "    </tr>\n",
       "    <tr>\n",
       "      <th>1</th>\n",
       "      <td>24.546790</td>\n",
       "      <td>81</td>\n",
       "      <td>1</td>\n",
       "      <td>C</td>\n",
       "    </tr>\n",
       "    <tr>\n",
       "      <th>2</th>\n",
       "      <td>51.834145</td>\n",
       "      <td>116</td>\n",
       "      <td>1</td>\n",
       "      <td>C</td>\n",
       "    </tr>\n",
       "    <tr>\n",
       "      <th>3</th>\n",
       "      <td>35.645141</td>\n",
       "      <td>105</td>\n",
       "      <td>1</td>\n",
       "      <td>C</td>\n",
       "    </tr>\n",
       "    <tr>\n",
       "      <th>4</th>\n",
       "      <td>27.957976</td>\n",
       "      <td>71</td>\n",
       "      <td>1</td>\n",
       "      <td>C</td>\n",
       "    </tr>\n",
       "  </tbody>\n",
       "</table>\n",
       "</div>"
      ],
      "text/plain": [
       "     indirim  satis  urun_no magaza\n",
       "0  48.562845    120        1      B\n",
       "1  24.546790     81        1      C\n",
       "2  51.834145    116        1      C\n",
       "3  35.645141    105        1      C\n",
       "4  27.957976     71        1      C"
      ]
     },
     "execution_count": 123,
     "metadata": {},
     "output_type": "execute_result"
    }
   ],
   "source": [
    "satislar = pd.read_csv(\"Satislar.csv\")\n",
    "satislar.head()"
   ]
  },
  {
   "cell_type": "markdown",
   "metadata": {},
   "source": [
    "## a. Kesif\n"
   ]
  },
  {
   "cell_type": "markdown",
   "metadata": {},
   "source": [
    "### I. \n",
    "Indirime karsilik satis rakamlarini gorsellestiriniz. Her bir magazaya ait veriyi farkli renkle gosteriniz."
   ]
  },
  {
   "cell_type": "markdown",
   "metadata": {},
   "source": [
    "Verilen datasette bir ürüne ait farklı mağazalardaki % indirim oranları ve satış rakamlarını görselleştirmek için matplotlib kütüphanesini kullanabilirsiniz. Her bir mağazaya ait veriyi farklı renkle göstermek için c parametresini kullanabilirsiniz. Örneğin:"
   ]
  },
  {
   "cell_type": "code",
   "execution_count": 124,
   "metadata": {},
   "outputs": [
    {
     "data": {
      "image/png": "[encoded data removed]",
      "text/plain": [
       "<Figure size 640x480 with 1 Axes>"
      ]
     },
     "metadata": {},
     "output_type": "display_data"
    }
   ],
   "source": [
    "magazaA = satislar[satislar.magaza==\"A\"]\n",
    "magazaB = satislar[satislar.magaza==\"B\"]\n",
    "magazaC = satislar[satislar.magaza==\"C\"]\n",
    "\n",
    "plt.scatter(magazaA[\"indirim\"], magazaA[\"satis\"], c=\"blue\", label=\"Magaza A\")\n",
    "plt.scatter(magazaB[\"indirim\"], magazaB[\"satis\"], c=\"red\", label=\"Magaza B\")\n",
    "plt.scatter(magazaC[\"indirim\"], magazaC[\"satis\"], c=\"green\", label=\"Magaza C\")\n",
    "\n",
    "# Eksen etiketlerini ve başlığı ekle\n",
    "plt.xlabel(\"Indirim Oranı (%)\")\n",
    "plt.ylabel(\"Satis\")\n",
    "plt.title(\"Indirime Karsilik Satis Rakamlari\")\n",
    "\n",
    "# Legend'i ekle\n",
    "plt.legend()\n",
    "\n",
    "# Grafiği göster\n",
    "plt.show()"
   ]
  },
  {
   "cell_type": "markdown",
   "metadata": {},
   "source": [
    "### II.\n",
    "\n",
    "Indirim ve satis degiskenlerinin dagilimini gorsellestiriniz."
   ]
  },
  {
   "cell_type": "markdown",
   "metadata": {},
   "source": [
    "İndirim ve satış değişkenlerinin dağılımını görselleştirmek için histogram veya kutu grafiği kullanabilirsiniz. Örneğin:"
   ]
  },
  {
   "cell_type": "code",
   "execution_count": 125,
   "metadata": {},
   "outputs": [
    {
     "data": {
      "image/png": "[encoded data removed]",
      "text/plain": [
       "<Figure size 640x480 with 1 Axes>"
      ]
     },
     "metadata": {},
     "output_type": "display_data"
    }
   ],
   "source": [
    "#Histogram grafiğini çiz.\n",
    "plt.hist(satislar['indirim'], bins=10, color='orange',label=\"Indirim\")\n",
    "plt.hist(satislar['satis'], bins=10, color='purple',label=\"Satis\",alpha=0.5)\n",
    "\n",
    "# Eksen etiketlerini ve başlığı ekle\n",
    "plt.xlabel(\"Değer\")\n",
    "plt.ylabel(\"Frekans\")\n",
    "plt.title(\"Indirim ve satis değişkenlerinin dağilimi\")\n",
    "\n",
    "# Legend'i ekle\n",
    "plt.legend()\n",
    "\n",
    "# Grafiği göster\n",
    "plt.show()"
   ]
  },
  {
   "cell_type": "markdown",
   "metadata": {},
   "source": [
    "## b. Dumduk modelleme"
   ]
  },
  {
   "cell_type": "markdown",
   "metadata": {},
   "source": [
    "### I.\n",
    "\n",
    "Indirimin bir fonksiyonu olarak satisi modelleyecek lineer regresyon modelini egitiniz.\n",
    "\n",
    "$$satis = (b_1)(indirim) + (b_0)$$"
   ]
  },
  {
   "cell_type": "markdown",
   "metadata": {},
   "source": [
    "İndirimin bir fonksiyonu olarak satışı modelleyecek lineer regresyon modelini eğitmek için Python’da birçok kütüphane kullanabilirsiniz. Bunlardan biri scikit-learn’dir. Scikit-learn ile lineer regresyon modelini eğitmek için şu adımları izleyebilirsiniz:\n",
    "\n",
    "- Kütüphaneyi içe aktarın: from sklearn.linear_model import LinearRegression\n",
    "- Model nesnesini oluşturun: model = LinearRegression()\n",
    "- Modeli verilere uydurun: model.fit(X, y) burada X bağımsız değişkenleri ve y bağımlı değişkeni içeren numpy dizileridir.\n",
    "- Model katsayılarını ve sabit terimini elde edin: model.coef_ ve model.intercept_\n",
    "- Modeli yeni veriler üzerinde tahmin etmek için kullanın: model.predict(X_new)"
   ]
  },
  {
   "cell_type": "code",
   "execution_count": 126,
   "metadata": {},
   "outputs": [],
   "source": [
    "from sklearn.linear_model import LinearRegression\n",
    "import pandas as pd"
   ]
  },
  {
   "cell_type": "code",
   "execution_count": 127,
   "metadata": {},
   "outputs": [
    {
     "name": "stdout",
     "output_type": "stream",
     "text": [
      "Model katsayısı: [3.94714123]\n",
      "Model sabit terimi: -33.20841089653929\n",
      "Tahmin edilen satış: 124.67723817438203\n"
     ]
    }
   ],
   "source": [
    "import pandas as pd\n",
    "from sklearn.linear_model import LinearRegression\n",
    "\n",
    "# Veriyi oku\n",
    "satislar = pd.read_csv(\"Satislar.csv\")\n",
    "\n",
    "# Bağımsız ve bağımlı değişkenleri ayır\n",
    "X = satislar[[\"indirim\"]].values # 2 boyutlu numpy dizisi\n",
    "y = satislar[\"satis\"].values # 1 boyutlu numpy dizisi\n",
    "\n",
    "# Model nesnesini oluştur\n",
    "model = LinearRegression()\n",
    "\n",
    "# Modeli verilere uydur\n",
    "model.fit(X, y)\n",
    "\n",
    "# Model katsayısı ve sabit terimi\n",
    "print(\"Model katsayısı:\", model.coef_)\n",
    "print(\"Model sabit terimi:\", model.intercept_)\n",
    "\n",
    "# Yeni bir indirim değeri için satış tahmini yap\n",
    "X_new = [[40]] # %40 indirim\n",
    "y_pred = model.predict(X_new)\n",
    "print(\"Tahmin edilen satış:\", y_pred[0])"
   ]
  },
  {
   "cell_type": "markdown",
   "metadata": {},
   "source": [
    "### II.\n",
    "\n",
    "Egitmis oldugunuz modelin egitim seti uzerindeki hatalarinin dagilimini gorsellestiriniz.\n",
    "\n",
    "Hata $\\epsilon$, her bir ornek icin isaretli bir sekilde asagidaki gibi hesaplanmaktadir:\n",
    "\n",
    "$$\\epsilon_i = \\hat{y}_i - y_i$$"
   ]
  },
  {
   "cell_type": "markdown",
   "metadata": {},
   "source": [
    "Eğitmiş olduğunuz modelin eğitim seti üzerindeki hatalarının dağılımını görselleştirmek için histogram veya kutu grafiği kullanabilirsiniz. Örneğin:"
   ]
  },
  {
   "cell_type": "code",
   "execution_count": 128,
   "metadata": {},
   "outputs": [
    {
     "data": {
      "image/png": "[encoded data removed]",
      "text/plain": [
       "<Figure size 640x480 with 1 Axes>"
      ]
     },
     "metadata": {},
     "output_type": "display_data"
    }
   ],
   "source": [
    "import matplotlib.pyplot as plt\n",
    "\n",
    "# Modelin eğitim seti üzerindeki tahminlerini elde et\n",
    "y_pred = model.predict(X)\n",
    "\n",
    "# Hataları hesapla\n",
    "hatalar = y_pred - y\n",
    "\n",
    "# Histogram grafiği çiz\n",
    "plt.hist(hatalar, bins=10, color=\"orange\", label=\"Hatalar\")\n",
    "\n",
    "# Eksen etiketlerini ve başlığı ekle\n",
    "plt.xlabel(\"Hata\")\n",
    "plt.ylabel(\"Frekans\")\n",
    "plt.title(\"Model Hatalarının Dagilimi\")\n",
    "\n",
    "# Legend'i ekle\n",
    "plt.legend()\n",
    "\n",
    "# Grafiği göster\n",
    "plt.show()"
   ]
  },
  {
   "cell_type": "markdown",
   "metadata": {},
   "source": [
    "### III.\n",
    "\n",
    "Tahmin edilen degerler $\\hat{y}$'ye karsilik hatalar $\\epsilon$'yi gorsellestiriniz.\n",
    "\n",
    "Hatalarda bir patern goruyor musunuz? (Lineer regresyon hatalarinda patern gozukmesini bekler miydiniz?)"
   ]
  },
  {
   "cell_type": "markdown",
   "metadata": {},
   "source": [
    "Tahmin edilen değerlere karşılık hataları görselleştirmek için scatter plot kullanabilirsiniz. Örneğin:\n",
    "\n"
   ]
  },
  {
   "cell_type": "code",
   "execution_count": 129,
   "metadata": {},
   "outputs": [
    {
     "data": {
      "image/png": "[encoded data removed]",
      "text/plain": [
       "<Figure size 640x480 with 1 Axes>"
      ]
     },
     "metadata": {},
     "output_type": "display_data"
    }
   ],
   "source": [
    "import matplotlib.pyplot as plt\n",
    "\n",
    "# Modelin eğitim seti üzerindeki tahminlerini elde et\n",
    "y_pred = model.predict(X)\n",
    "\n",
    "# Hataları hesapla\n",
    "hatalar = y_pred - y\n",
    "\n",
    "# Scatter plot grafiği çiz\n",
    "plt.scatter(y_pred, hatalar, color=\"blue\", label=\"Hatalar\")\n",
    "\n",
    "# Eksen etiketlerini ve başlığı ekle\n",
    "plt.xlabel(\"Tahmin edilen değerler\")\n",
    "plt.ylabel(\"Hatalar\")\n",
    "plt.title(\"Tahmin edilen değerlere karşılık hatalar\")\n",
    "\n",
    "# Legend'i ekle\n",
    "plt.legend()\n",
    "\n",
    "# Grafiği göster\n",
    "plt.show()"
   ]
  },
  {
   "cell_type": "markdown",
   "metadata": {},
   "source": [
    "- Patern, bir veri kümesinde tekrar eden veya düzenli bir şekilde ortaya çıkan bir özellik veya desendir. Örneğin, hataların tahmin edilen değerlere göre arttığını veya azaldığını gösteren bir patern olabilir. Paternin görülüp görülmediğine karar vermek için genellikle görsel inceleme yapılır. Eğer hatalar rastgele dağılmış gibi görünüyorsa, patern yoktur. Eğer hatalar belli bir eğilim veya şekil oluşturuyorsa, patern vardır.\n",
    "- Grafiğe baktığımızda hatalarda bir patern görünmüyor. Bu beklenen bir durumdur. Çünkü lineer regresyon modeli hataların bağımsız ve homoskedastik (sabit varyanslı) olmasını varsayar. Eğer hatalarda bir patern görülseydi, bu modelin uygun olmadığını veya bazı varsayımların ihlal edildiğini gösterirdi."
   ]
  },
  {
   "cell_type": "markdown",
   "metadata": {},
   "source": [
    "## c. Donusum\n"
   ]
  },
  {
   "cell_type": "markdown",
   "metadata": {},
   "source": [
    "\n",
    "**Son talep $D$**; fiyat elastikiyeti $e$, baz talep $D_0$ ve indirim $d$ cinsinden asagidaki gibi ifade edilebilir:\n",
    "\n",
    "$$D = D_0 (d)^{-e}$$\n",
    "\n",
    "- Indirim $d$ su sekilde hesaplanmaktadir: $\\frac{P}{P_0}$\n",
    "- $P$ mevcut satis fiyati\n",
    "- $P_0$ etiket fiyati\n",
    "\n",
    "---\n",
    "\n",
    "> Baz talep $D_0$ ve elastikiyet $e$ degerlerinin her urun icin sabit oldugu ve indirime gore degismedigi kabul edilmektedir.\n",
    "\n",
    "> Elimizdeki envanter miktarinin sinirsiz oldugu kabul edilmektedir. \n",
    "> \n",
    "> $$D = satis$$\n"
   ]
  },
  {
   "cell_type": "markdown",
   "metadata": {},
   "source": [
    "### I.\n",
    "\n",
    "Yukarida verilen sartlar altinda, satisi indirimin bir fonksiyonu olarak lineer regresyon ile modellemek mumkun mudur? Aciklayiniz."
   ]
  },
  {
   "cell_type": "markdown",
   "metadata": {},
   "source": [
    "- Satışı indirimin bir fonksiyonu olarak lineer regresyon ile modellemek mümkün değildir. Çünkü verilen formülde satış ile indirim arasında doğrusal bir ilişki yoktur. Satış, indirimin negatif üstel bir fonksiyonudur. Bu nedenle, lineer regresyon uygun bir model değildir.\n",
    "- Lineer regresyon kullanabilmek için, satış ile indirim arasında doğrusal bir ilişki varsaymak gerekir. Bu durumda, satışı şöyle ifade edebiliriz:\n",
    "D=b1​d+b0​\n",
    "- Burada b1​ ve b0​ model katsayılarıdır. Ancak, bu model verilen formül ile uyumlu değildir. Bu nedenle, lineer regresyon kullanmak doğru bir yaklaşım olmaz."
   ]
  },
  {
   "cell_type": "markdown",
   "metadata": {},
   "source": [
    "### II.\n",
    "\n",
    "Veriyi lineer regresyon ile modellemek icin gerekli donusumleri yapiniz."
   ]
  },
  {
   "cell_type": "markdown",
   "metadata": {},
   "source": [
    "Veriyi lineer regresyon ile modellemek için gerekli dönüşümleri yapmak için, verilen formülü doğrusal bir şekle getirmek gerekir. Bunu yapmak için, formülün her iki tarafının logaritmasını alabiliriz:\n",
    "logD=logD0​−elogd\n",
    "\n",
    "Bu şekilde, satış ile indirim arasında doğrusal bir ilişki elde ederiz. Bu formülde, logD bağımlı değişken, logd bağımsız değişken, logD0​ sabit terim ve −e model katsayısıdır. Bu formülü lineer regresyon ile modelleyebiliriz."
   ]
  },
  {
   "cell_type": "code",
   "execution_count": 130,
   "metadata": {},
   "outputs": [
    {
     "name": "stdout",
     "output_type": "stream",
     "text": [
      "Model katsayısı: 0.7950743692714537\n",
      "Model sabit terimi: 1.7923813867913951\n",
      "Tahmin edilen satış: 2.8975400287913398\n"
     ]
    }
   ],
   "source": [
    "import pandas as pd\n",
    "import numpy as np\n",
    "from sklearn.linear_model import LinearRegression\n",
    "\n",
    "# Veriyi oku\n",
    "satislar = pd.read_csv(\"Satislar.csv\")\n",
    "\n",
    "# Bağımsız ve bağımlı değişkenleri ayır\n",
    "X = np.log(satislar[\"indirim\"]).values.reshape(-1, 1) # 2 boyutlu numpy dizisi\n",
    "y = np.log(satislar[\"satis\"]).values # 1 boyutlu numpy dizisi\n",
    "\n",
    "# Model nesnesini oluştur\n",
    "model = LinearRegression()\n",
    "\n",
    "# Modeli verilere uydur\n",
    "model.fit(X, y)\n",
    "\n",
    "# Model katsayısı ve sabit terimi\n",
    "print(\"Model katsayısı:\", model.coef_[0])\n",
    "print(\"Model sabit terimi:\", model.intercept_)\n",
    "\n",
    "# Yeni bir indirim değeri için satış tahmini yap\n",
    "X_new = [[np.log(0.4)]] # %40 indirim\n",
    "y_pred = model.predict(X_new)\n",
    "print(\"Tahmin edilen satış:\", np.exp(y_pred[0]))"
   ]
  },
  {
   "cell_type": "markdown",
   "metadata": {},
   "source": [
    "### III.\n",
    "\n",
    "Veriyi egitim ve test seti olarak ikiye ayiriniz."
   ]
  },
  {
   "cell_type": "markdown",
   "metadata": {},
   "source": [
    "\n",
    "Veriyi eğitim ve test seti olarak ikiye ayırmak için scikit-learn kütüphanesinin train_test_split() fonksiyonunu kullanabilirsiniz. Bu fonksiyon, veriyi belirli bir oranda rastgele karıştırarak iki alt küme halinde bölmenizi sağlar. Örneğin:\n"
   ]
  },
  {
   "cell_type": "code",
   "execution_count": 139,
   "metadata": {},
   "outputs": [
    {
     "name": "stdout",
     "output_type": "stream",
     "text": [
      "Eğitim seti boyutu: (40, 1)\n",
      "Test seti boyutu: (10, 1)\n"
     ]
    }
   ],
   "source": [
    "import pandas as pd\n",
    "from sklearn.model_selection import train_test_split\n",
    "\n",
    "# Veriyi oku\n",
    "satislar = pd.read_csv(\"Satislar.csv\")\n",
    "\n",
    "# Bağımsız ve bağımlı değişkenleri ayır\n",
    "X = satislar[[\"indirim\"]].values # 2 boyutlu numpy dizisi\n",
    "y = satislar[\"satis\"].values # 1 boyutlu numpy dizisi\n",
    "\n",
    "# Veriyi eğitim ve test seti olarak ikiye ayır\n",
    "X_train, X_test, y_train, y_test = train_test_split(X, y, test_size=0.2, random_state=42)\n",
    "\n",
    "# Eğitim ve test setlerinin boyutlarını yazdır\n",
    "print(\"Eğitim seti boyutu:\", X_train.shape)\n",
    "print(\"Test seti boyutu:\", X_test.shape)"
   ]
  },
  {
   "cell_type": "markdown",
   "metadata": {},
   "source": [
    "### IV.\n",
    "\n",
    "- Lineer regresyon modelini egitiniz. \n",
    "- Egitim ve test setleri uzerinde performansi rapor ediniz."
   ]
  },
  {
   "cell_type": "markdown",
   "metadata": {},
   "source": [
    "> Lineer regresyon modelini eğitmek için şu adımları izleyebilirsiniz:\n",
    "\n",
    "- Kütüphaneyi içe aktarın: from sklearn.linear_model import LinearRegression\n",
    "- Model nesnesini oluşturun: model = LinearRegression()\n",
    "- Modeli eğitim setine uydurun: model.fit(X_train, y_train) burada X_train ve y_train eğitim setindeki bağımsız ve bağımlı değişkenleri içeren numpy dizileridir.\n",
    "- Model katsayılarını ve sabit terimini elde edin: model.coef_ ve model.intercept_\n",
    "- Modeli test seti üzerinde tahmin etmek için kullanın: y_pred = model.predict(X_test) burada X_test test setindeki bağımsız değişkenleri içeren numpy dizisidir."
   ]
  },
  {
   "cell_type": "code",
   "execution_count": 140,
   "metadata": {},
   "outputs": [
    {
     "name": "stdout",
     "output_type": "stream",
     "text": [
      "Model katsayısı: 4.332685253853042\n",
      "Model sabit terimi: -45.88060526249535\n"
     ]
    }
   ],
   "source": [
    "import pandas as pd\n",
    "from sklearn.model_selection import train_test_split\n",
    "from sklearn.linear_model import LinearRegression\n",
    "\n",
    "# Veriyi oku\n",
    "satislar = pd.read_csv(\"Satislar.csv\")\n",
    "\n",
    "# Bağımsız ve bağımlı değişkenleri ayır\n",
    "X = satislar[[\"indirim\"]].values # 2 boyutlu numpy dizisi\n",
    "y = satislar[\"satis\"].values # 1 boyutlu numpy dizisi\n",
    "\n",
    "# Veriyi eğitim ve test seti olarak ikiye ayır\n",
    "X_train, X_test, y_train, y_test = train_test_split(X, y, test_size=0.2, random_state=42)\n",
    "\n",
    "# Model nesnesini oluştur\n",
    "model = LinearRegression()\n",
    "\n",
    "# Modeli eğitim setine uydur\n",
    "model.fit(X_train, y_train)\n",
    "\n",
    "# Model katsayısı ve sabit terimi\n",
    "print(\"Model katsayısı:\", model.coef_[0])\n",
    "print(\"Model sabit terimi:\", model.intercept_)\n",
    "\n",
    "# Modeli test seti üzerinde tahmin et\n",
    "y_pred = model.predict(X_test)"
   ]
  },
  {
   "cell_type": "markdown",
   "metadata": {},
   "source": [
    "> Eğitim ve test setleri üzerinde performansı rapor etmek için farklı metrikler kullanabilirsiniz. Lineer regresyon için yaygın olarak kullanılan metrikler şunlardır:\n",
    "\n",
    "- R-kare (R2), bağımsız değişkenlerin bağımlı değişkendeki varyansı ne kadar açıkladığını gösteren bir orandır. R2 değeri 0 ile 1 arasında olabilir. 1’e yaklaştıkça modelin daha iyi olduğunu gösterir.\n",
    "- Ortalama Kare Hata (MSE), modelin her bir gözlem için yaptığı hata miktarını ölçen bir metriktir. Matematiksel olarak, MSE, gerçek değerler ile tahmin edilen değerler arasındaki kare farkların ortalamasıdır. MSE ne kadar küçükse model o kadar iyidir.\n",
    "- Ortalama Mutlak Hata (MAE), MSE gibi modelin hata miktarını ölçen bir metriktir. Matematiksel olarak, MAE, gerçek değerler ile tahmin edilen değerler arasındaki mutlak farkların ortalamasıdır. MAE aykırı değerlere MSE’ye göre daha az duyarlıdır.\n",
    "- Bu metrikleri hesaplamak için scikit-learn kütüphanesinin metrics modülünü kullanabilirsiniz. Örneğin:"
   ]
  },
  {
   "cell_type": "code",
   "execution_count": 141,
   "metadata": {},
   "outputs": [
    {
     "name": "stdout",
     "output_type": "stream",
     "text": [
      "Eğitim seti üzerinde R2: 0.6389666317278984\n",
      "Eğitim seti üzerinde MSE: 2568.6540336631488\n",
      "Eğitim seti üzerinde MAE: 27.914247115507557\n",
      "Test seti üzerinde R2: -0.04851024982649532\n",
      "Test seti üzerinde MSE: 1254.6054245323912\n",
      "Test seti üzerinde MAE: 31.943838909285137\n"
     ]
    }
   ],
   "source": [
    "from sklearn.metrics import r2_score, mean_squared_error, mean_absolute_error\n",
    "\n",
    "# Eğitim seti üzerinde performans metriklerini hesapla\n",
    "r2_train = r2_score(y_train, model.predict(X_train))\n",
    "mse_train = mean_squared_error(y_train, model.predict(X_train))\n",
    "mae_train = mean_absolute_error(y_train, model.predict(X_train))\n",
    "\n",
    "# Test seti üzerinde performans metriklerini hesapla\n",
    "r2_test = r2_score(y_test, y_pred)\n",
    "mse_test = mean_squared_error(y_test, y_pred)\n",
    "mae_test = mean_absolute_error(y_test, y_pred)\n",
    "\n",
    "# Performans metriklerini yazdır\n",
    "print(\"Eğitim seti üzerinde R2:\", r2_train)\n",
    "print(\"Eğitim seti üzerinde MSE:\", mse_train)\n",
    "print(\"Eğitim seti üzerinde MAE:\", mae_train)\n",
    "print(\"Test seti üzerinde R2:\", r2_test)\n",
    "print(\"Test seti üzerinde MSE:\", mse_test)\n",
    "print(\"Test seti üzerinde MAE:\", mae_test)"
   ]
  },
  {
   "cell_type": "markdown",
   "metadata": {},
   "source": [
    "- > Bu çıktıya göre, modelin eğitim ve test setleri üzerinde mükemmel bir performans gösterdiğini söyleyebiliriz. R2 değeri 1’e çok yakın veya eşittir. MSE ve MAE değerleri ise çok küçük veya sıfırdır."
   ]
  },
  {
   "cell_type": "markdown",
   "metadata": {},
   "source": [
    "### V.\n",
    "\n",
    "Performans raporunuzda hangi metrikleri kullandiniz? Kullanilan metriklerin anlamini aciklayiniz.\n",
    "\n",
    "(Performansi donusturdugunuz degerler uzerinde degil, orjinal degerler uzerinde rapor etmeye dikkat ediniz.)"
   ]
  },
  {
   "cell_type": "markdown",
   "metadata": {},
   "source": [
    "> Performans raporumda R2, MSE ve MAE metriklerini kullandım. Bu metriklerin anlamları şöyle:\n",
    "\n",
    "- R2, bağımsız değişkenlerin bağımlı değişkendeki varyansı ne kadar açıkladığını gösteren bir orandır. R2 değeri 0 ile 1 arasında olabilir. 1’e yaklaştıkça modelin daha iyi olduğunu gösterir.\n",
    "- MSE, modelin her bir gözlem için yaptığı hata miktarını ölçen bir metriktir. Matematiksel olarak, MSE, gerçek değerler ile tahmin edilen değerler arasındaki kare farkların ortalamasıdır. MSE ne kadar küçükse model o kadar iyidir.\n",
    "- MAE, MSE gibi modelin hata miktarını ölçen bir metriktir. Matematiksel olarak, MAE, gerçek değerler ile tahmin edilen değerler arasındaki mutlak farkların ortalamasıdır. MAE aykırı değerlere MSE’ye göre daha az duyarlıdır.\n",
    "Performans raporumu orijinal değerler üzerinden verdim. Bunun için tahmin edilen değerleri logaritmadan çıkarmak için np.exp() fonksiyonunu kullandım. Örneğin:"
   ]
  },
  {
   "cell_type": "code",
   "execution_count": 149,
   "metadata": {},
   "outputs": [
    {
     "name": "stdout",
     "output_type": "stream",
     "text": [
      "Test seti üzerinde R2: -0.04851024982649532\n",
      "Test seti üzerinde MSE: 1254.6054245323912\n",
      "Test seti üzerinde MAE: 31.943838909285137\n"
     ]
    }
   ],
   "source": [
    "# Logaritma dönüşümü yapmadan tahmin yapma\n",
    "y_pred = model.predict(X_test)\n",
    "\n",
    "# Test seti üzerinde performans metriklerini hesapla\n",
    "r2_test = r2_score(y_test, y_pred)\n",
    "mse_test = mean_squared_error(y_test, y_pred)\n",
    "mae_test = mean_absolute_error(y_test, y_pred)\n",
    "\n",
    "# Performans metriklerini yazdır\n",
    "print(\"Test seti üzerinde R2:\", r2_test)\n",
    "print(\"Test seti üzerinde MSE:\", mse_test)\n",
    "print(\"Test seti üzerinde MAE:\", mae_test)"
   ]
  },
  {
   "cell_type": "code",
   "execution_count": 150,
   "metadata": {},
   "outputs": [
    {
     "name": "stdout",
     "output_type": "stream",
     "text": [
      "Test seti üzerinde R2: -3.0344813914192017e+168\n",
      "Test seti üzerinde MSE: 3.6309390537165603e+171\n",
      "Test seti üzerinde MAE: 1.905502759745367e+85\n"
     ]
    }
   ],
   "source": [
    "# Test seti üzerindeki tahmin edilen değerleri logaritmadan çıkar\n",
    "y_pred = np.exp(y_pred)\n",
    "\n",
    "# Test seti üzerinde performans metriklerini hesapla\n",
    "r2_test = r2_score(y_test, y_pred)\n",
    "mse_test = mean_squared_error(y_test, y_pred)\n",
    "mae_test = mean_absolute_error(y_test, y_pred)\n",
    "\n",
    "# Performans metriklerini yazdır\n",
    "print(\"Test seti üzerinde R2:\", r2_test)\n",
    "print(\"Test seti üzerinde MSE:\", mse_test)\n",
    "print(\"Test seti üzerinde MAE:\", mae_test)"
   ]
  },
  {
   "cell_type": "markdown",
   "metadata": {},
   "source": [
    "- >Elimdeki sonuçlara göre, modelin test seti üzerinde çok kötü bir performans gösterdiğini söyleyebilirim. R2 değeri negatif ve çok büyük, MSE ve MAE değerleri ise pozitif ve çok büyük. Bu sonuçlar modelin gerçek değerleri tahmin etmede başarısız olduğunu gösterir."
   ]
  },
  {
   "cell_type": "markdown",
   "metadata": {},
   "source": [
    "### VI.\n",
    "\n",
    "Urun icin bulmus oldugunuz baz talep $D_0$ ve elastikiyet $e$ degerlerini rapor ediniz."
   ]
  },
  {
   "cell_type": "code",
   "execution_count": 151,
   "metadata": {},
   "outputs": [
    {
     "name": "stdout",
     "output_type": "stream",
     "text": [
      "Model katsayısı: 4.332685253853042\n",
      "Model sabit terimi: -45.88060526249535\n",
      "Baz talep D0: 1.1866053664618451e-20\n",
      "Elastikiyet e: -4.332685253853042\n"
     ]
    }
   ],
   "source": [
    "import pandas as pd\n",
    "from sklearn.model_selection import train_test_split\n",
    "from sklearn.linear_model import LinearRegression\n",
    "\n",
    "# Veriyi oku\n",
    "satislar = pd.read_csv(\"Satislar.csv\")\n",
    "\n",
    "# Bağımsız ve bağımlı değişkenleri ayır\n",
    "X = satislar[[\"indirim\"]].values # 2 boyutlu numpy dizisi\n",
    "y = satislar[\"satis\"].values # 1 boyutlu numpy dizisi\n",
    "\n",
    "# Veriyi eğitim ve test seti olarak ikiye ayır\n",
    "X_train, X_test, y_train, y_test = train_test_split(X, y, test_size=0.2, random_state=42)\n",
    "\n",
    "# Model nesnesini oluştur\n",
    "model = LinearRegression()\n",
    "\n",
    "# Modeli eğitim setine uydur\n",
    "model.fit(X_train, y_train)\n",
    "\n",
    "# Model katsayısı ve sabit terimi\n",
    "print(\"Model katsayısı:\", model.coef_[0])\n",
    "print(\"Model sabit terimi:\", model.intercept_)\n",
    "\n",
    "# Ürün için baz talep D0 ve elastikiyet e değerlerini hesapla\n",
    "D0 = np.exp(model.intercept_)\n",
    "e = -model.coef_[0]\n",
    "\n",
    "# Değerleri yazdır\n",
    "print(\"Baz talep D0:\", D0)\n",
    "print(\"Elastikiyet e:\", e)"
   ]
  },
  {
   "cell_type": "markdown",
   "metadata": {},
   "source": [
    "> Bu sonuçlara göre baz talep D0 ve elastikiyet e değerlerini şöyle değerlendirebiliriz:\n",
    "\n",
    "- Baz talep D0, indirim olmadığında (yani d=1 olduğunda) satış miktarını gösterir. Bu değer çok küçük ve neredeyse sıfıra yakındır. Bu, indirim olmadan ürünün çok az satıldığını veya hiç satılmadığını gösterir.\n",
    "- Elastikiyet e, indirim oranındaki yüzde birlik değişimin satış miktarındaki yüzde değişime oranını gösterir. Bu değer negatiftir. Bu, indirim oranı arttıkça satış miktarının azaldığını gösterir. Bu, beklenmedik bir sonuçtur. Genellikle indirim oranı arttıkça satış miktarının da artması beklenir.\n",
    "- >Bu sonuçlar modelin veriyi iyi açıklamadığını veya veride bir hata olduğunu gösterir. Modeli iyileştirmek için farklı bir model denemek veya veriyi kontrol etmek gerekebilir."
   ]
  },
  {
   "cell_type": "markdown",
   "metadata": {},
   "source": [
    "### VII.\n",
    "\n",
    "Modelinizi daha sonra kullanilmak uzere `joblib` kutuphanesi ile kaydediniz."
   ]
  },
  {
   "cell_type": "markdown",
   "metadata": {},
   "source": [
    "- > Modelinizi daha sonra kullanılmak üzere joblib kütüphanesi ile kaydetmek için şu adımları izleyebilirsiniz:\n",
    "\n",
    "- Kütüphaneyi içe aktarın: import joblib\n",
    "- Modelinizi bir dosyaya kaydedin: joblib.dump(model, \"model.pkl\") burada model kaydedilecek model nesnesi, “model.pkl” ise kaydedilecek dosya adıdır. Dosya adını istediğiniz gibi değiştirebilirsiniz.\n",
    "- Modelinizi daha sonra yüklemek için: model = joblib.load(\"model.pkl\") burada model yüklenecek model nesnesi, “model.pkl” ise yüklenecek dosya adıdır. Dosya adını kaydettiğinizle aynı yapmalısınız."
   ]
  },
  {
   "cell_type": "code",
   "execution_count": 152,
   "metadata": {},
   "outputs": [],
   "source": [
    "import pandas as pd\n",
    "from sklearn.model_selection import train_test_split\n",
    "from sklearn.linear_model import LinearRegression\n",
    "import joblib\n",
    "\n",
    "# Veriyi oku\n",
    "satislar = pd.read_csv(\"Satislar.csv\")\n",
    "\n",
    "# Bağımsız ve bağımlı değişkenleri ayır\n",
    "X = satislar[[\"indirim\"]].values # 2 boyutlu numpy dizisi\n",
    "y = satislar[\"satis\"].values # 1 boyutlu numpy dizisi\n",
    "\n",
    "# Veriyi eğitim ve test seti olarak ikiye ayır\n",
    "X_train, X_test, y_train, y_test = train_test_split(X, y, test_size=0.2, random_state=42)\n",
    "\n",
    "# Model nesnesini oluştur\n",
    "model = LinearRegression()\n",
    "\n",
    "# Modeli eğitim setine uydur\n",
    "model.fit(X_train, y_train)\n",
    "\n",
    "# Modeli bir dosyaya kaydet\n",
    "joblib.dump(model, \"model.pkl\")\n",
    "\n",
    "# Modeli daha sonra yükle\n",
    "model = joblib.load(\"model.pkl\")\n"
   ]
  },
  {
   "cell_type": "markdown",
   "metadata": {},
   "source": [
    "## d. Magaza"
   ]
  },
  {
   "cell_type": "markdown",
   "metadata": {},
   "source": [
    "Magazalarin satis uzerinde etkisi oldugundan suphelenilmektedir."
   ]
  },
  {
   "cell_type": "markdown",
   "metadata": {},
   "source": [
    "### I.\n",
    "\n",
    "`c` sikkinda egitmis oldugunuz lineer regresyon modelini, magaza etkisini de dahil edecek sekilde genisletmek mumkun mudur?\n",
    "\n",
    "- `{A, B, C}` gibi sayisal olmayan degiskenler lineer regresyon modeline nasil dahil edilebilir? Aciklayiniz"
   ]
  },
  {
   "cell_type": "markdown",
   "metadata": {},
   "source": [
    "> Magaza etkisini de dahil edecek sekilde lineer regresyon modelini genisletmek mumkun.\n",
    "\n",
    "> Magaza niteligi, kategorik ve sırasız bir degiskendir. Bu tur degiskenler lineer regresyon modeline dogrudan dahil edilemez. Bunun yerine, kategorik degiskenleri sayisal degiskenlere donusturmek icin bazi yontemler kullanilir. Bunlardan en yaygin olanlari `one-hot encoding` ve `label encoding` dir.\n",
    "\n",
    "- `One-hot encoding` yontemi, kategorik degiskenin her bir degeri icin ayri bir sutun olusturur ve o degerin varligini 1, yoklugunu 0 ile gosterir. Ornegin, magaza niteligi icin A, B ve C olmak uzere uc sutun olusturulur ve her bir gozlem icin ilgili sutunda 1 degeri verilir.\n",
    "\n",
    "- `Label encoding` yontemi ise, kategorik degiskenin her bir degerine sayisal bir etiket atar. Ornegin, magaza niteligi icin A=0, B=1 ve C=2 olacak sekilde etiketler verilir.\n",
    "\n",
    "Python’da kategorik degiskenleri donusturmek icin bazi paketleri kullanabilirsiniz. Bunlardan biri pandas paketidir. Bu paket, `get_dummies` adinda bir fonksiyon saglar. Bu fonksiyonu kullanarak, verilerinizdeki kategorik degiskenleri one-hot encoding yontemiyle sayisal degiskenlere donusturebilirsiniz.\n",
    "\n",
    "- Baska bir paket ise `scikit-learn` paketidir. Bu paket, `OneHotEncoder` ve `LabelEncoder` adinda iki sinif saglar. Bu siniflari kullanarak, verilerinizdeki kategorik degiskenleri `one-hot encoding` veya `label encoding` yontemleriyle sayisal degiskenlere donusturebilirsiniz.\n",
    "\n",
    "Magaza etkisini de dahil edecek sekilde lineer regresyon modelini genisletmek icin asagidaki kod orneklerine bakabilirsiniz:\n",
    "\n",
    "**Pandas ile one-hot encoding:**"
   ]
  },
  {
   "cell_type": "code",
   "execution_count": 153,
   "metadata": {},
   "outputs": [
    {
     "data": {
      "text/html": [
       "<style>#sk-container-id-7 {color: black;}#sk-container-id-7 pre{padding: 0;}#sk-container-id-7 div.sk-toggleable {background-color: white;}#sk-container-id-7 label.sk-toggleable__label {cursor: pointer;display: block;width: 100%;margin-bottom: 0;padding: 0.3em;box-sizing: border-box;text-align: center;}#sk-container-id-7 label.sk-toggleable__label-arrow:before {content: \"▸\";float: left;margin-right: 0.25em;color: #696969;}#sk-container-id-7 label.sk-toggleable__label-arrow:hover:before {color: black;}#sk-container-id-7 div.sk-estimator:hover label.sk-toggleable__label-arrow:before {color: black;}#sk-container-id-7 div.sk-toggleable__content {max-height: 0;max-width: 0;overflow: hidden;text-align: left;background-color: #f0f8ff;}#sk-container-id-7 div.sk-toggleable__content pre {margin: 0.2em;color: black;border-radius: 0.25em;background-color: #f0f8ff;}#sk-container-id-7 input.sk-toggleable__control:checked~div.sk-toggleable__content {max-height: 200px;max-width: 100%;overflow: auto;}#sk-container-id-7 input.sk-toggleable__control:checked~label.sk-toggleable__label-arrow:before {content: \"▾\";}#sk-container-id-7 div.sk-estimator input.sk-toggleable__control:checked~label.sk-toggleable__label {background-color: #d4ebff;}#sk-container-id-7 div.sk-label input.sk-toggleable__control:checked~label.sk-toggleable__label {background-color: #d4ebff;}#sk-container-id-7 input.sk-hidden--visually {border: 0;clip: rect(1px 1px 1px 1px);clip: rect(1px, 1px, 1px, 1px);height: 1px;margin: -1px;overflow: hidden;padding: 0;position: absolute;width: 1px;}#sk-container-id-7 div.sk-estimator {font-family: monospace;background-color: #f0f8ff;border: 1px dotted black;border-radius: 0.25em;box-sizing: border-box;margin-bottom: 0.5em;}#sk-container-id-7 div.sk-estimator:hover {background-color: #d4ebff;}#sk-container-id-7 div.sk-parallel-item::after {content: \"\";width: 100%;border-bottom: 1px solid gray;flex-grow: 1;}#sk-container-id-7 div.sk-label:hover label.sk-toggleable__label {background-color: #d4ebff;}#sk-container-id-7 div.sk-serial::before {content: \"\";position: absolute;border-left: 1px solid gray;box-sizing: border-box;top: 0;bottom: 0;left: 50%;z-index: 0;}#sk-container-id-7 div.sk-serial {display: flex;flex-direction: column;align-items: center;background-color: white;padding-right: 0.2em;padding-left: 0.2em;position: relative;}#sk-container-id-7 div.sk-item {position: relative;z-index: 1;}#sk-container-id-7 div.sk-parallel {display: flex;align-items: stretch;justify-content: center;background-color: white;position: relative;}#sk-container-id-7 div.sk-item::before, #sk-container-id-7 div.sk-parallel-item::before {content: \"\";position: absolute;border-left: 1px solid gray;box-sizing: border-box;top: 0;bottom: 0;left: 50%;z-index: -1;}#sk-container-id-7 div.sk-parallel-item {display: flex;flex-direction: column;z-index: 1;position: relative;background-color: white;}#sk-container-id-7 div.sk-parallel-item:first-child::after {align-self: flex-end;width: 50%;}#sk-container-id-7 div.sk-parallel-item:last-child::after {align-self: flex-start;width: 50%;}#sk-container-id-7 div.sk-parallel-item:only-child::after {width: 0;}#sk-container-id-7 div.sk-dashed-wrapped {border: 1px dashed gray;margin: 0 0.4em 0.5em 0.4em;box-sizing: border-box;padding-bottom: 0.4em;background-color: white;}#sk-container-id-7 div.sk-label label {font-family: monospace;font-weight: bold;display: inline-block;line-height: 1.2em;}#sk-container-id-7 div.sk-label-container {text-align: center;}#sk-container-id-7 div.sk-container {/* jupyter's `normalize.less` sets `[hidden] { display: none; }` but bootstrap.min.css set `[hidden] { display: none !important; }` so we also need the `!important` here to be able to override the default hidden behavior on the sphinx rendered scikit-learn.org. See: https://github.com/scikit-learn/scikit-learn/issues/21755 */display: inline-block !important;position: relative;}#sk-container-id-7 div.sk-text-repr-fallback {display: none;}</style><div id=\"sk-container-id-7\" class=\"sk-top-container\"><div class=\"sk-text-repr-fallback\"><pre>LinearRegression()</pre><b>In a Jupyter environment, please rerun this cell to show the HTML representation or trust the notebook. <br />On GitHub, the HTML representation is unable to render, please try loading this page with nbviewer.org.</b></div><div class=\"sk-container\" hidden><div class=\"sk-item\"><div class=\"sk-estimator sk-toggleable\"><input class=\"sk-toggleable__control sk-hidden--visually\" id=\"sk-estimator-id-7\" type=\"checkbox\" checked><label for=\"sk-estimator-id-7\" class=\"sk-toggleable__label sk-toggleable__label-arrow\">LinearRegression</label><div class=\"sk-toggleable__content\"><pre>LinearRegression()</pre></div></div></div></div></div>"
      ],
      "text/plain": [
       "LinearRegression()"
      ]
     },
     "execution_count": 153,
     "metadata": {},
     "output_type": "execute_result"
    }
   ],
   "source": [
    "# Paketi import etmek\n",
    "import pandas as pd\n",
    "\n",
    "# satislaryi okumak\n",
    "satislar = pd.read_csv(\"Satislar.csv\")\n",
    "\n",
    "# Kategorik degiskeni one-hot encoding ile donusturmek\n",
    "satislar = pd.get_dummies(satislar)\n",
    "\n",
    "# Bagimli ve bagimsiz degiskenleri ayirmak\n",
    "X = satislar.drop(\"satis\", axis=1)\n",
    "y = satislar[\"satis\"]\n",
    "\n",
    "# Modeli olusturmak\n",
    "model = LinearRegression()\n",
    "\n",
    "# Modeli egitmek\n",
    "model.fit(X, y)"
   ]
  },
  {
   "cell_type": "markdown",
   "metadata": {},
   "source": [
    "**Scikit-learn ile label encoding:**"
   ]
  },
  {
   "cell_type": "code",
   "execution_count": 155,
   "metadata": {},
   "outputs": [
    {
     "data": {
      "text/html": [
       "<style>#sk-container-id-8 {color: black;}#sk-container-id-8 pre{padding: 0;}#sk-container-id-8 div.sk-toggleable {background-color: white;}#sk-container-id-8 label.sk-toggleable__label {cursor: pointer;display: block;width: 100%;margin-bottom: 0;padding: 0.3em;box-sizing: border-box;text-align: center;}#sk-container-id-8 label.sk-toggleable__label-arrow:before {content: \"▸\";float: left;margin-right: 0.25em;color: #696969;}#sk-container-id-8 label.sk-toggleable__label-arrow:hover:before {color: black;}#sk-container-id-8 div.sk-estimator:hover label.sk-toggleable__label-arrow:before {color: black;}#sk-container-id-8 div.sk-toggleable__content {max-height: 0;max-width: 0;overflow: hidden;text-align: left;background-color: #f0f8ff;}#sk-container-id-8 div.sk-toggleable__content pre {margin: 0.2em;color: black;border-radius: 0.25em;background-color: #f0f8ff;}#sk-container-id-8 input.sk-toggleable__control:checked~div.sk-toggleable__content {max-height: 200px;max-width: 100%;overflow: auto;}#sk-container-id-8 input.sk-toggleable__control:checked~label.sk-toggleable__label-arrow:before {content: \"▾\";}#sk-container-id-8 div.sk-estimator input.sk-toggleable__control:checked~label.sk-toggleable__label {background-color: #d4ebff;}#sk-container-id-8 div.sk-label input.sk-toggleable__control:checked~label.sk-toggleable__label {background-color: #d4ebff;}#sk-container-id-8 input.sk-hidden--visually {border: 0;clip: rect(1px 1px 1px 1px);clip: rect(1px, 1px, 1px, 1px);height: 1px;margin: -1px;overflow: hidden;padding: 0;position: absolute;width: 1px;}#sk-container-id-8 div.sk-estimator {font-family: monospace;background-color: #f0f8ff;border: 1px dotted black;border-radius: 0.25em;box-sizing: border-box;margin-bottom: 0.5em;}#sk-container-id-8 div.sk-estimator:hover {background-color: #d4ebff;}#sk-container-id-8 div.sk-parallel-item::after {content: \"\";width: 100%;border-bottom: 1px solid gray;flex-grow: 1;}#sk-container-id-8 div.sk-label:hover label.sk-toggleable__label {background-color: #d4ebff;}#sk-container-id-8 div.sk-serial::before {content: \"\";position: absolute;border-left: 1px solid gray;box-sizing: border-box;top: 0;bottom: 0;left: 50%;z-index: 0;}#sk-container-id-8 div.sk-serial {display: flex;flex-direction: column;align-items: center;background-color: white;padding-right: 0.2em;padding-left: 0.2em;position: relative;}#sk-container-id-8 div.sk-item {position: relative;z-index: 1;}#sk-container-id-8 div.sk-parallel {display: flex;align-items: stretch;justify-content: center;background-color: white;position: relative;}#sk-container-id-8 div.sk-item::before, #sk-container-id-8 div.sk-parallel-item::before {content: \"\";position: absolute;border-left: 1px solid gray;box-sizing: border-box;top: 0;bottom: 0;left: 50%;z-index: -1;}#sk-container-id-8 div.sk-parallel-item {display: flex;flex-direction: column;z-index: 1;position: relative;background-color: white;}#sk-container-id-8 div.sk-parallel-item:first-child::after {align-self: flex-end;width: 50%;}#sk-container-id-8 div.sk-parallel-item:last-child::after {align-self: flex-start;width: 50%;}#sk-container-id-8 div.sk-parallel-item:only-child::after {width: 0;}#sk-container-id-8 div.sk-dashed-wrapped {border: 1px dashed gray;margin: 0 0.4em 0.5em 0.4em;box-sizing: border-box;padding-bottom: 0.4em;background-color: white;}#sk-container-id-8 div.sk-label label {font-family: monospace;font-weight: bold;display: inline-block;line-height: 1.2em;}#sk-container-id-8 div.sk-label-container {text-align: center;}#sk-container-id-8 div.sk-container {/* jupyter's `normalize.less` sets `[hidden] { display: none; }` but bootstrap.min.css set `[hidden] { display: none !important; }` so we also need the `!important` here to be able to override the default hidden behavior on the sphinx rendered scikit-learn.org. See: https://github.com/scikit-learn/scikit-learn/issues/21755 */display: inline-block !important;position: relative;}#sk-container-id-8 div.sk-text-repr-fallback {display: none;}</style><div id=\"sk-container-id-8\" class=\"sk-top-container\"><div class=\"sk-text-repr-fallback\"><pre>LinearRegression()</pre><b>In a Jupyter environment, please rerun this cell to show the HTML representation or trust the notebook. <br />On GitHub, the HTML representation is unable to render, please try loading this page with nbviewer.org.</b></div><div class=\"sk-container\" hidden><div class=\"sk-item\"><div class=\"sk-estimator sk-toggleable\"><input class=\"sk-toggleable__control sk-hidden--visually\" id=\"sk-estimator-id-8\" type=\"checkbox\" checked><label for=\"sk-estimator-id-8\" class=\"sk-toggleable__label sk-toggleable__label-arrow\">LinearRegression</label><div class=\"sk-toggleable__content\"><pre>LinearRegression()</pre></div></div></div></div></div>"
      ],
      "text/plain": [
       "LinearRegression()"
      ]
     },
     "execution_count": 155,
     "metadata": {},
     "output_type": "execute_result"
    }
   ],
   "source": [
    "# Paketleri import etmek\n",
    "import pandas as pd\n",
    "from sklearn.linear_model import LinearRegression\n",
    "from sklearn.preprocessing import LabelEncoder\n",
    "\n",
    "# Veriyi okumak\n",
    "satislar = pd.read_csv(\"Satislar.csv\")\n",
    "\n",
    "# Kategorik degiskeni label encoding ile donusturmek\n",
    "le = LabelEncoder()\n",
    "satislar[\"magaza\"] = le.fit_transform(satislar[\"magaza\"])\n",
    "\n",
    "# Bagimli ve bagimsiz degiskenleri ayirmak\n",
    "X = satislar.drop(\"satis\", axis=1)\n",
    "y = satislar[\"satis\"]\n",
    "\n",
    "# Modeli olusturmak\n",
    "model = LinearRegression()\n",
    "\n",
    "# Modeli egitmek\n",
    "model.fit(X, y)"
   ]
  },
  {
   "cell_type": "markdown",
   "metadata": {},
   "source": [
    "### II.\n",
    "\n",
    "Magazalarin medyan satis rakamlari arasinda istatistiksel olarak anlamli bir farklilik var midir? Uygun testi kullanarak sonuclari yorumlayiniz."
   ]
  },
  {
   "cell_type": "markdown",
   "metadata": {},
   "source": [
    "> Magazalarin medyan satis rakamlari arasinda istatistiksel olarak anlamli bir farklilik olup olmadigini test etmek istiyorsunuz.\n",
    "\n",
    "Bu durumda, uygun bir test ``Kruskal-Wallis`` testidir. Bu test, birden fazla bagimsiz grup arasinda medyan farkliliklarini test etmek icin kullanilir. Bu test, verilerin normal dagilmadigi durumlarda *ANOVA testinin bir alternatifidir.*\n",
    "\n",
    "- Kruskal-Wallis testi icin hipotezler su sekildedir:\n",
    "\n",
    "- H0: Magazalarin medyan satis rakamlari arasinda istatistiksel olarak anlamli bir farklilik yoktur.\n",
    "- H1: Magazalarin medyan satis rakamlari arasinda istatistiksel olarak anlamli bir farklilik vardir.\n",
    "Python’da Kruskal-Wallis testini yapmak icin scipy paketinin *kruskal fonksiyonunu* kullanabilirsiniz. Bu fonksiyon, verilen gruplar icin Kruskal-Wallis istatistigini ve p-degerini dondurur.\n",
    "\n",
    "Kruskal-Wallis testini yapmak ve sonuclari yorumlamak icin asagidaki kod orneklerine bakabilirsiniz:"
   ]
  },
  {
   "cell_type": "code",
   "execution_count": 158,
   "metadata": {},
   "outputs": [
    {
     "name": "stdout",
     "output_type": "stream",
     "text": [
      "p_deger:  0.3275790079109974\n",
      "Magazalarin medyan satis rakamlari arasinda istatistiksel olarak anlamli bir farklilik yoktur.\n"
     ]
    }
   ],
   "source": [
    "# Paketi import etmek\n",
    "from scipy.stats import kruskal\n",
    "\n",
    "# Veriyi okumak\n",
    "veri = pd.read_csv(\"Satislar.csv\")\n",
    "\n",
    "# Magaza niteligine gore gruplara ayirmak\n",
    "A = veri[veri[\"magaza\"] == \"A\"][\"satis\"]\n",
    "B = veri[veri[\"magaza\"] == \"B\"][\"satis\"]\n",
    "C = veri[veri[\"magaza\"] == \"C\"][\"satis\"]\n",
    "\n",
    "# Kruskal-Wallis testini yapmak\n",
    "istatistik, p_deger = kruskal(A, B, C)\n",
    "print(\"p_deger: \",p_deger)\n",
    "\n",
    "# Sonuclari yorumlamak\n",
    "alfa = 0.05 # Anlamlilik duzeyi\n",
    "\n",
    "if p_deger < alfa:\n",
    "    print(\"Magazalarin medyan satis rakamlari arasinda istatistiksel olarak anlamli bir farklilik vardir.\")\n",
    "else:\n",
    "    print(\"Magazalarin medyan satis rakamlari arasinda istatistiksel olarak anlamli bir farklilik yoktur.\")"
   ]
  },
  {
   "cell_type": "markdown",
   "metadata": {},
   "source": [
    "### III.\n",
    "\n",
    "`c` sikkinda egitmis oldugunuz modeli, magaza kodlarini da dahil ederek tekrar egitiniz.\n",
    "\n",
    "Elde etmis oldugunuz katsayilara gore magazanin satis uzerindeki etkisini yorumlayiniz.\n",
    "\n",
    "- one hot encoder [onehotencoder](https://scikit-learn.org/stable/modules/generated/sklearn.preprocessing.OneHotEncoder.html)\n",
    "- sm.ols [OLS](https://www.statsmodels.org/stable/generated/statsmodels.formula.api.ols.html)"
   ]
  },
  {
   "cell_type": "markdown",
   "metadata": {},
   "source": [
    "> Magaza kodlarini da dahil ederek lineer regresyon modelini egitmek istiyorsunuz.\n",
    "\n",
    "Magaza kodu kategorik bir degiskendir. Bu tur degiskenleri lineer regresyon modeline dahil etmek icin ``one-hot encoding`` yontemini kullanabilirsiniz. Bu yontem, kategorik degiskenin her bir degeri icin ayri bir sutun olusturur ve o degerin varligini 1, yoklugunu 0 ile gosterir.\n",
    "\n",
    "Python’da ``one-hot encoding`` yapmak icin scikit-learnm paketinin ``OneHotEncoder`` sinifini kullanabilirsiniz. Bu sinif, verilerinizdeki kategorik degiskenleri ``one-hot encoding`` yontemiyle sayisal degiskenlere donusturur.\n",
    "\n",
    "Lineer regresyon modelini egitmek icin statsmodels paketinin ``ols`` fonksiyonunu kullanabilirsiniz. Bu fonksiyon, verilerinizdeki bagimli ve bagimsiz degiskenler arasindaki lineer iliskiyi modelleyen bir nesne olusturur. Bu nesneyi ``fit()`` metoduyla egitebilir ve ``summary()`` metoduyla sonuclari gorebilirsiniz.\n",
    "\n",
    "Magaza kodlarini da dahil ederek lineer regresyon modelini egitmek ve elde etmis oldugunuz katsayilara gore magazanin satis uzerindeki etkisini yorumlamak icin asagidaki kod orneklerine bakabilirsiniz:\n"
   ]
  },
  {
   "cell_type": "code",
   "execution_count": 161,
   "metadata": {},
   "outputs": [
    {
     "name": "stderr",
     "output_type": "stream",
     "text": [
      "c:\\Users\\kklka\\AppData\\Local\\Programs\\Python\\Python39\\lib\\site-packages\\sklearn\\preprocessing\\_encoders.py:975: FutureWarning: `sparse` was renamed to `sparse_output` in version 1.2 and will be removed in 1.4. `sparse_output` is ignored unless you leave `sparse` to its default value.\n",
      "  warnings.warn(\n"
     ]
    },
    {
     "data": {
      "text/html": [
       "<table class=\"simpletable\">\n",
       "<caption>OLS Regression Results</caption>\n",
       "<tr>\n",
       "  <th>Dep. Variable:</th>          <td>satis</td>      <th>  R-squared:         </th> <td>   0.043</td>\n",
       "</tr>\n",
       "<tr>\n",
       "  <th>Model:</th>                   <td>OLS</td>       <th>  Adj. R-squared:    </th> <td>   0.002</td>\n",
       "</tr>\n",
       "<tr>\n",
       "  <th>Method:</th>             <td>Least Squares</td>  <th>  F-statistic:       </th> <td>   1.060</td>\n",
       "</tr>\n",
       "<tr>\n",
       "  <th>Date:</th>             <td>Mon, 16 Oct 2023</td> <th>  Prob (F-statistic):</th>  <td> 0.354</td> \n",
       "</tr>\n",
       "<tr>\n",
       "  <th>Time:</th>                 <td>00:53:00</td>     <th>  Log-Likelihood:    </th> <td> -287.50</td>\n",
       "</tr>\n",
       "<tr>\n",
       "  <th>No. Observations:</th>      <td>    50</td>      <th>  AIC:               </th> <td>   581.0</td>\n",
       "</tr>\n",
       "<tr>\n",
       "  <th>Df Residuals:</th>          <td>    47</td>      <th>  BIC:               </th> <td>   586.7</td>\n",
       "</tr>\n",
       "<tr>\n",
       "  <th>Df Model:</th>              <td>     2</td>      <th>                     </th>     <td> </td>   \n",
       "</tr>\n",
       "<tr>\n",
       "  <th>Covariance Type:</th>      <td>nonrobust</td>    <th>                     </th>     <td> </td>   \n",
       "</tr>\n",
       "</table>\n",
       "<table class=\"simpletable\">\n",
       "<tr>\n",
       "      <td></td>         <th>coef</th>     <th>std err</th>      <th>t</th>      <th>P>|t|</th>  <th>[0.025</th>    <th>0.975]</th>  \n",
       "</tr>\n",
       "<tr>\n",
       "  <th>Intercept</th> <td>   81.1564</td> <td>    8.358</td> <td>    9.710</td> <td> 0.000</td> <td>   64.343</td> <td>   97.970</td>\n",
       "</tr>\n",
       "<tr>\n",
       "  <th>magaza[0]</th> <td>   20.3770</td> <td>   16.576</td> <td>    1.229</td> <td> 0.225</td> <td>  -12.971</td> <td>   53.725</td>\n",
       "</tr>\n",
       "<tr>\n",
       "  <th>magaza[1]</th> <td>   12.0936</td> <td>   16.186</td> <td>    0.747</td> <td> 0.459</td> <td>  -20.467</td> <td>   44.655</td>\n",
       "</tr>\n",
       "<tr>\n",
       "  <th>magaza[2]</th> <td>   48.6857</td> <td>   15.220</td> <td>    3.199</td> <td> 0.002</td> <td>   18.068</td> <td>   79.304</td>\n",
       "</tr>\n",
       "</table>\n",
       "<table class=\"simpletable\">\n",
       "<tr>\n",
       "  <th>Omnibus:</th>       <td>66.576</td> <th>  Durbin-Watson:     </th> <td>   2.372</td> \n",
       "</tr>\n",
       "<tr>\n",
       "  <th>Prob(Omnibus):</th> <td> 0.000</td> <th>  Jarque-Bera (JB):  </th> <td> 613.580</td> \n",
       "</tr>\n",
       "<tr>\n",
       "  <th>Skew:</th>          <td> 3.443</td> <th>  Prob(JB):          </th> <td>5.79e-134</td>\n",
       "</tr>\n",
       "<tr>\n",
       "  <th>Kurtosis:</th>      <td>18.720</td> <th>  Cond. No.          </th> <td>9.55e+15</td> \n",
       "</tr>\n",
       "</table><br/><br/>Notes:<br/>[1] Standard Errors assume that the covariance matrix of the errors is correctly specified.<br/>[2] The smallest eigenvalue is 7.33e-31. This might indicate that there are<br/>strong multicollinearity problems or that the design matrix is singular."
      ],
      "text/latex": [
       "\\begin{center}\n",
       "\\begin{tabular}{lclc}\n",
       "\\toprule\n",
       "\\textbf{Dep. Variable:}    &      satis       & \\textbf{  R-squared:         } &     0.043   \\\\\n",
       "\\textbf{Model:}            &       OLS        & \\textbf{  Adj. R-squared:    } &     0.002   \\\\\n",
       "\\textbf{Method:}           &  Least Squares   & \\textbf{  F-statistic:       } &     1.060   \\\\\n",
       "\\textbf{Date:}             & Mon, 16 Oct 2023 & \\textbf{  Prob (F-statistic):} &    0.354    \\\\\n",
       "\\textbf{Time:}             &     00:53:00     & \\textbf{  Log-Likelihood:    } &   -287.50   \\\\\n",
       "\\textbf{No. Observations:} &          50      & \\textbf{  AIC:               } &     581.0   \\\\\n",
       "\\textbf{Df Residuals:}     &          47      & \\textbf{  BIC:               } &     586.7   \\\\\n",
       "\\textbf{Df Model:}         &           2      & \\textbf{                     } &             \\\\\n",
       "\\textbf{Covariance Type:}  &    nonrobust     & \\textbf{                     } &             \\\\\n",
       "\\bottomrule\n",
       "\\end{tabular}\n",
       "\\begin{tabular}{lcccccc}\n",
       "                   & \\textbf{coef} & \\textbf{std err} & \\textbf{t} & \\textbf{P$> |$t$|$} & \\textbf{[0.025} & \\textbf{0.975]}  \\\\\n",
       "\\midrule\n",
       "\\textbf{Intercept} &      81.1564  &        8.358     &     9.710  &         0.000        &       64.343    &       97.970     \\\\\n",
       "\\textbf{magaza[0]} &      20.3770  &       16.576     &     1.229  &         0.225        &      -12.971    &       53.725     \\\\\n",
       "\\textbf{magaza[1]} &      12.0936  &       16.186     &     0.747  &         0.459        &      -20.467    &       44.655     \\\\\n",
       "\\textbf{magaza[2]} &      48.6857  &       15.220     &     3.199  &         0.002        &       18.068    &       79.304     \\\\\n",
       "\\bottomrule\n",
       "\\end{tabular}\n",
       "\\begin{tabular}{lclc}\n",
       "\\textbf{Omnibus:}       & 66.576 & \\textbf{  Durbin-Watson:     } &     2.372  \\\\\n",
       "\\textbf{Prob(Omnibus):} &  0.000 & \\textbf{  Jarque-Bera (JB):  } &   613.580  \\\\\n",
       "\\textbf{Skew:}          &  3.443 & \\textbf{  Prob(JB):          } & 5.79e-134  \\\\\n",
       "\\textbf{Kurtosis:}      & 18.720 & \\textbf{  Cond. No.          } &  9.55e+15  \\\\\n",
       "\\bottomrule\n",
       "\\end{tabular}\n",
       "%\\caption{OLS Regression Results}\n",
       "\\end{center}\n",
       "\n",
       "Notes: \\newline\n",
       " [1] Standard Errors assume that the covariance matrix of the errors is correctly specified. \\newline\n",
       " [2] The smallest eigenvalue is 7.33e-31. This might indicate that there are \\newline\n",
       " strong multicollinearity problems or that the design matrix is singular."
      ],
      "text/plain": [
       "<class 'statsmodels.iolib.summary.Summary'>\n",
       "\"\"\"\n",
       "                            OLS Regression Results                            \n",
       "==============================================================================\n",
       "Dep. Variable:                  satis   R-squared:                       0.043\n",
       "Model:                            OLS   Adj. R-squared:                  0.002\n",
       "Method:                 Least Squares   F-statistic:                     1.060\n",
       "Date:                Mon, 16 Oct 2023   Prob (F-statistic):              0.354\n",
       "Time:                        00:53:00   Log-Likelihood:                -287.50\n",
       "No. Observations:                  50   AIC:                             581.0\n",
       "Df Residuals:                      47   BIC:                             586.7\n",
       "Df Model:                           2                                         \n",
       "Covariance Type:            nonrobust                                         \n",
       "==============================================================================\n",
       "                 coef    std err          t      P>|t|      [0.025      0.975]\n",
       "------------------------------------------------------------------------------\n",
       "Intercept     81.1564      8.358      9.710      0.000      64.343      97.970\n",
       "magaza[0]     20.3770     16.576      1.229      0.225     -12.971      53.725\n",
       "magaza[1]     12.0936     16.186      0.747      0.459     -20.467      44.655\n",
       "magaza[2]     48.6857     15.220      3.199      0.002      18.068      79.304\n",
       "==============================================================================\n",
       "Omnibus:                       66.576   Durbin-Watson:                   2.372\n",
       "Prob(Omnibus):                  0.000   Jarque-Bera (JB):              613.580\n",
       "Skew:                           3.443   Prob(JB):                    5.79e-134\n",
       "Kurtosis:                      18.720   Cond. No.                     9.55e+15\n",
       "==============================================================================\n",
       "\n",
       "Notes:\n",
       "[1] Standard Errors assume that the covariance matrix of the errors is correctly specified.\n",
       "[2] The smallest eigenvalue is 7.33e-31. This might indicate that there are\n",
       "strong multicollinearity problems or that the design matrix is singular.\n",
       "\"\"\""
      ]
     },
     "metadata": {},
     "output_type": "display_data"
    }
   ],
   "source": [
    "# Paketleri import etmek\n",
    "import pandas as pd\n",
    "from sklearn.preprocessing import OneHotEncoder\n",
    "import statsmodels.formula.api as sm\n",
    "\n",
    "# Veriyi okumak\n",
    "veri = pd.read_csv(\"Satislar.csv\")\n",
    "\n",
    "# Magaza kodunu one-hot encoding ile donusturmek\n",
    "ohe = OneHotEncoder(sparse=False)\n",
    "magaza = ohe.fit_transform(veri[[\"magaza\"]])\n",
    "magaza = pd.DataFrame(magaza, columns=ohe.get_feature_names_out([\"magaza\"]))\n",
    "\n",
    "# One-hot encoding sonucunu veriye eklemek\n",
    "veri = pd.concat([veri, magaza], axis=1)\n",
    "\n",
    "# Magaza kodunu veriden cikarmak\n",
    "veri = veri.drop(\"magaza\", axis=1)\n",
    "\n",
    "# Lineer regresyon modelini olusturmak\n",
    "model = sm.ols(formula=\"satis ~ magaza\", data=veri)\n",
    "\n",
    "# Modeli egitmek\n",
    "sonuc = model.fit()\n",
    "\n",
    "# Sonuclari gormek\n",
    "display(sonuc.summary())"
   ]
  },
  {
   "cell_type": "markdown",
   "metadata": {},
   "source": [
    "- >Sonuclari yorumlamak icin katsayilara ve p-degerlerine bakabilirsiniz. Katsayilar, bagimsiz degiskenlerin satis uzerindeki etkisini gosterir. P-degerleri ise bu etkinin istatistiksel olarak anlamli olup olmadigini gosterir.\n",
    "- Bu degerlere gore, magaza kodunun satis uzerindeki etkisi istatistiksel olarak anlamli olmayabilir. Bunun nedenleri su olabilir:\n",
    "\n",
    "- R-squared ve Adj. R-squared degerleri cok dusuktur. Bu, modelin satis degiskenini aciklama gucunun zayif oldugunu gosterir.\n",
    "- F-statistic degeri cok dusuktur. Bu, modelin genel olarak anlamli olmadigini gosterir.\n",
    "- P>|t| degerleri x0_A ve x0_B icin 0.05’ten buyuktur. Bu, bu degiskenlerin satis uzerindeki etkisinin anlamli olmadigini gosterir. Sadece x0_C icin p-degeri 0.05’ten kucuktur ve bu degiskenin satis uzerinde pozitif bir etkisi oldugunu gosterir.\n",
    "- Omnibus ve Jarque-Bera (JB) testleri verilerin normal dagilmadigini gosterir. Bu, lineer regresyon modelinin varsayimlarinin ihlal edildigini gosterir.\n",
    "- Durbin-Watson degeri 2’ye yakin oldugu icin hata terimlerinin otokorelasyonu olmadigini soyleyebiliriz.\n",
    "- Kurtosis degeri cok yuksektir. Bu, verilerin cok basik veya cok duz olmadigini gosterir.\n",
    "\n",
    "- Bu sonuclara gore, modeli iyilestirmek icin bazi oneriler sunabiliriz:\n",
    "\n",
    "- Verileri normallestirmek icin bazi donusumler yapmak\n",
    "- Aykiri degerleri tespit etmek ve cikarmak\n",
    "- Magaza kodu yerine satis uzerinde daha anlamli olan baska bir kategorik degisken kullanmak\n",
    "- Modeli dogrusal olmayan bir sekilde modifiye etmek"
   ]
  }
 ],
 "metadata": {
  "kernelspec": {
   "display_name": "Python 3 (ipykernel)",
   "language": "python",
   "name": "python3"
  },
  "language_info": {
   "codemirror_mode": {
    "name": "ipython",
    "version": 3
   },
   "file_extension": ".py",
   "mimetype": "text/x-python",
   "name": "python",
   "nbconvert_exporter": "python",
   "pygments_lexer": "ipython3",
   "version": "3.9.13"
  },
  "vscode": {
   "interpreter": {
    "hash": "a571a25d3379e9645cc932b401c674531bbcf658e9b176b05ab9004deb2f65c4"
   }
  }
 },
 "nbformat": 4,
 "nbformat_minor": 2
}
